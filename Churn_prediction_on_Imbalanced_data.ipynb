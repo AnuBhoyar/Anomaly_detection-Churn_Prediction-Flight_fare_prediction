{
 "cells": [
  {
   "cell_type": "code",
   "execution_count": 1,
   "id": "2e174c01",
   "metadata": {},
   "outputs": [],
   "source": [
    "import matplotlib.pyplot as plt\n",
    "import numpy as np\n",
    "import pandas as pd\n",
    "%matplotlib inline"
   ]
  },
  {
   "cell_type": "code",
   "execution_count": 4,
   "id": "d0487bcf",
   "metadata": {},
   "outputs": [
    {
     "data": {
      "text/html": [
       "<div>\n",
       "<style scoped>\n",
       "    .dataframe tbody tr th:only-of-type {\n",
       "        vertical-align: middle;\n",
       "    }\n",
       "\n",
       "    .dataframe tbody tr th {\n",
       "        vertical-align: top;\n",
       "    }\n",
       "\n",
       "    .dataframe thead th {\n",
       "        text-align: right;\n",
       "    }\n",
       "</style>\n",
       "<table border=\"1\" class=\"dataframe\">\n",
       "  <thead>\n",
       "    <tr style=\"text-align: right;\">\n",
       "      <th></th>\n",
       "      <th>customerID</th>\n",
       "      <th>gender</th>\n",
       "      <th>SeniorCitizen</th>\n",
       "      <th>Partner</th>\n",
       "      <th>Dependents</th>\n",
       "      <th>tenure</th>\n",
       "      <th>PhoneService</th>\n",
       "      <th>MultipleLines</th>\n",
       "      <th>InternetService</th>\n",
       "      <th>OnlineSecurity</th>\n",
       "      <th>...</th>\n",
       "      <th>DeviceProtection</th>\n",
       "      <th>TechSupport</th>\n",
       "      <th>StreamingTV</th>\n",
       "      <th>StreamingMovies</th>\n",
       "      <th>Contract</th>\n",
       "      <th>PaperlessBilling</th>\n",
       "      <th>PaymentMethod</th>\n",
       "      <th>MonthlyCharges</th>\n",
       "      <th>TotalCharges</th>\n",
       "      <th>Churn</th>\n",
       "    </tr>\n",
       "  </thead>\n",
       "  <tbody>\n",
       "    <tr>\n",
       "      <th>1946</th>\n",
       "      <td>7449-HVPIV</td>\n",
       "      <td>Male</td>\n",
       "      <td>0</td>\n",
       "      <td>Yes</td>\n",
       "      <td>Yes</td>\n",
       "      <td>55</td>\n",
       "      <td>Yes</td>\n",
       "      <td>Yes</td>\n",
       "      <td>Fiber optic</td>\n",
       "      <td>No</td>\n",
       "      <td>...</td>\n",
       "      <td>Yes</td>\n",
       "      <td>No</td>\n",
       "      <td>Yes</td>\n",
       "      <td>No</td>\n",
       "      <td>Month-to-month</td>\n",
       "      <td>Yes</td>\n",
       "      <td>Credit card (automatic)</td>\n",
       "      <td>90.40</td>\n",
       "      <td>5099.15</td>\n",
       "      <td>No</td>\n",
       "    </tr>\n",
       "    <tr>\n",
       "      <th>6020</th>\n",
       "      <td>0020-JDNXP</td>\n",
       "      <td>Female</td>\n",
       "      <td>0</td>\n",
       "      <td>Yes</td>\n",
       "      <td>Yes</td>\n",
       "      <td>34</td>\n",
       "      <td>No</td>\n",
       "      <td>No phone service</td>\n",
       "      <td>DSL</td>\n",
       "      <td>Yes</td>\n",
       "      <td>...</td>\n",
       "      <td>Yes</td>\n",
       "      <td>Yes</td>\n",
       "      <td>Yes</td>\n",
       "      <td>Yes</td>\n",
       "      <td>One year</td>\n",
       "      <td>No</td>\n",
       "      <td>Mailed check</td>\n",
       "      <td>61.25</td>\n",
       "      <td>1993.2</td>\n",
       "      <td>No</td>\n",
       "    </tr>\n",
       "    <tr>\n",
       "      <th>102</th>\n",
       "      <td>7123-WQUHX</td>\n",
       "      <td>Male</td>\n",
       "      <td>0</td>\n",
       "      <td>No</td>\n",
       "      <td>No</td>\n",
       "      <td>38</td>\n",
       "      <td>Yes</td>\n",
       "      <td>Yes</td>\n",
       "      <td>Fiber optic</td>\n",
       "      <td>No</td>\n",
       "      <td>...</td>\n",
       "      <td>Yes</td>\n",
       "      <td>Yes</td>\n",
       "      <td>Yes</td>\n",
       "      <td>No</td>\n",
       "      <td>One year</td>\n",
       "      <td>No</td>\n",
       "      <td>Bank transfer (automatic)</td>\n",
       "      <td>95.00</td>\n",
       "      <td>3605.6</td>\n",
       "      <td>No</td>\n",
       "    </tr>\n",
       "    <tr>\n",
       "      <th>4372</th>\n",
       "      <td>4781-ZXYGU</td>\n",
       "      <td>Male</td>\n",
       "      <td>0</td>\n",
       "      <td>Yes</td>\n",
       "      <td>Yes</td>\n",
       "      <td>1</td>\n",
       "      <td>Yes</td>\n",
       "      <td>No</td>\n",
       "      <td>No</td>\n",
       "      <td>No internet service</td>\n",
       "      <td>...</td>\n",
       "      <td>No internet service</td>\n",
       "      <td>No internet service</td>\n",
       "      <td>No internet service</td>\n",
       "      <td>No internet service</td>\n",
       "      <td>Month-to-month</td>\n",
       "      <td>Yes</td>\n",
       "      <td>Bank transfer (automatic)</td>\n",
       "      <td>20.15</td>\n",
       "      <td>20.15</td>\n",
       "      <td>No</td>\n",
       "    </tr>\n",
       "    <tr>\n",
       "      <th>5184</th>\n",
       "      <td>7570-WELNY</td>\n",
       "      <td>Female</td>\n",
       "      <td>0</td>\n",
       "      <td>Yes</td>\n",
       "      <td>No</td>\n",
       "      <td>68</td>\n",
       "      <td>Yes</td>\n",
       "      <td>Yes</td>\n",
       "      <td>Fiber optic</td>\n",
       "      <td>Yes</td>\n",
       "      <td>...</td>\n",
       "      <td>No</td>\n",
       "      <td>No</td>\n",
       "      <td>No</td>\n",
       "      <td>No</td>\n",
       "      <td>Two year</td>\n",
       "      <td>Yes</td>\n",
       "      <td>Bank transfer (automatic)</td>\n",
       "      <td>84.70</td>\n",
       "      <td>5711.05</td>\n",
       "      <td>No</td>\n",
       "    </tr>\n",
       "  </tbody>\n",
       "</table>\n",
       "<p>5 rows × 21 columns</p>\n",
       "</div>"
      ],
      "text/plain": [
       "      customerID  gender  SeniorCitizen Partner Dependents  tenure  \\\n",
       "1946  7449-HVPIV    Male              0     Yes        Yes      55   \n",
       "6020  0020-JDNXP  Female              0     Yes        Yes      34   \n",
       "102   7123-WQUHX    Male              0      No         No      38   \n",
       "4372  4781-ZXYGU    Male              0     Yes        Yes       1   \n",
       "5184  7570-WELNY  Female              0     Yes         No      68   \n",
       "\n",
       "     PhoneService     MultipleLines InternetService       OnlineSecurity  ...  \\\n",
       "1946          Yes               Yes     Fiber optic                   No  ...   \n",
       "6020           No  No phone service             DSL                  Yes  ...   \n",
       "102           Yes               Yes     Fiber optic                   No  ...   \n",
       "4372          Yes                No              No  No internet service  ...   \n",
       "5184          Yes               Yes     Fiber optic                  Yes  ...   \n",
       "\n",
       "         DeviceProtection          TechSupport          StreamingTV  \\\n",
       "1946                  Yes                   No                  Yes   \n",
       "6020                  Yes                  Yes                  Yes   \n",
       "102                   Yes                  Yes                  Yes   \n",
       "4372  No internet service  No internet service  No internet service   \n",
       "5184                   No                   No                   No   \n",
       "\n",
       "          StreamingMovies        Contract PaperlessBilling  \\\n",
       "1946                   No  Month-to-month              Yes   \n",
       "6020                  Yes        One year               No   \n",
       "102                    No        One year               No   \n",
       "4372  No internet service  Month-to-month              Yes   \n",
       "5184                   No        Two year              Yes   \n",
       "\n",
       "                  PaymentMethod MonthlyCharges  TotalCharges Churn  \n",
       "1946    Credit card (automatic)          90.40       5099.15    No  \n",
       "6020               Mailed check          61.25        1993.2    No  \n",
       "102   Bank transfer (automatic)          95.00        3605.6    No  \n",
       "4372  Bank transfer (automatic)          20.15         20.15    No  \n",
       "5184  Bank transfer (automatic)          84.70       5711.05    No  \n",
       "\n",
       "[5 rows x 21 columns]"
      ]
     },
     "execution_count": 4,
     "metadata": {},
     "output_type": "execute_result"
    }
   ],
   "source": [
    "df=pd.read_csv('Telco-Customer-Churn.csv')\n",
    "df.sample(5)"
   ]
  },
  {
   "cell_type": "code",
   "execution_count": 5,
   "id": "81b61b2c",
   "metadata": {},
   "outputs": [],
   "source": [
    "#Drop customerID column\n",
    "df.drop('customerID',axis=1,inplace=True)"
   ]
  },
  {
   "cell_type": "code",
   "execution_count": 6,
   "id": "e6d6bffe",
   "metadata": {},
   "outputs": [
    {
     "data": {
      "text/html": [
       "<div>\n",
       "<style scoped>\n",
       "    .dataframe tbody tr th:only-of-type {\n",
       "        vertical-align: middle;\n",
       "    }\n",
       "\n",
       "    .dataframe tbody tr th {\n",
       "        vertical-align: top;\n",
       "    }\n",
       "\n",
       "    .dataframe thead th {\n",
       "        text-align: right;\n",
       "    }\n",
       "</style>\n",
       "<table border=\"1\" class=\"dataframe\">\n",
       "  <thead>\n",
       "    <tr style=\"text-align: right;\">\n",
       "      <th></th>\n",
       "      <th>gender</th>\n",
       "      <th>SeniorCitizen</th>\n",
       "      <th>Partner</th>\n",
       "      <th>Dependents</th>\n",
       "      <th>tenure</th>\n",
       "      <th>PhoneService</th>\n",
       "      <th>MultipleLines</th>\n",
       "      <th>InternetService</th>\n",
       "      <th>OnlineSecurity</th>\n",
       "      <th>OnlineBackup</th>\n",
       "      <th>DeviceProtection</th>\n",
       "      <th>TechSupport</th>\n",
       "      <th>StreamingTV</th>\n",
       "      <th>StreamingMovies</th>\n",
       "      <th>Contract</th>\n",
       "      <th>PaperlessBilling</th>\n",
       "      <th>PaymentMethod</th>\n",
       "      <th>MonthlyCharges</th>\n",
       "      <th>TotalCharges</th>\n",
       "      <th>Churn</th>\n",
       "    </tr>\n",
       "  </thead>\n",
       "  <tbody>\n",
       "    <tr>\n",
       "      <th>4521</th>\n",
       "      <td>Female</td>\n",
       "      <td>0</td>\n",
       "      <td>Yes</td>\n",
       "      <td>No</td>\n",
       "      <td>46</td>\n",
       "      <td>No</td>\n",
       "      <td>No phone service</td>\n",
       "      <td>DSL</td>\n",
       "      <td>Yes</td>\n",
       "      <td>Yes</td>\n",
       "      <td>No</td>\n",
       "      <td>No</td>\n",
       "      <td>Yes</td>\n",
       "      <td>No</td>\n",
       "      <td>Month-to-month</td>\n",
       "      <td>No</td>\n",
       "      <td>Electronic check</td>\n",
       "      <td>45.55</td>\n",
       "      <td>2062.15</td>\n",
       "      <td>No</td>\n",
       "    </tr>\n",
       "    <tr>\n",
       "      <th>3060</th>\n",
       "      <td>Male</td>\n",
       "      <td>0</td>\n",
       "      <td>Yes</td>\n",
       "      <td>No</td>\n",
       "      <td>25</td>\n",
       "      <td>No</td>\n",
       "      <td>No phone service</td>\n",
       "      <td>DSL</td>\n",
       "      <td>No</td>\n",
       "      <td>No</td>\n",
       "      <td>Yes</td>\n",
       "      <td>No</td>\n",
       "      <td>Yes</td>\n",
       "      <td>No</td>\n",
       "      <td>One year</td>\n",
       "      <td>Yes</td>\n",
       "      <td>Credit card (automatic)</td>\n",
       "      <td>38.10</td>\n",
       "      <td>970.4</td>\n",
       "      <td>No</td>\n",
       "    </tr>\n",
       "    <tr>\n",
       "      <th>2016</th>\n",
       "      <td>Female</td>\n",
       "      <td>0</td>\n",
       "      <td>No</td>\n",
       "      <td>No</td>\n",
       "      <td>10</td>\n",
       "      <td>Yes</td>\n",
       "      <td>Yes</td>\n",
       "      <td>Fiber optic</td>\n",
       "      <td>No</td>\n",
       "      <td>No</td>\n",
       "      <td>No</td>\n",
       "      <td>No</td>\n",
       "      <td>No</td>\n",
       "      <td>Yes</td>\n",
       "      <td>Month-to-month</td>\n",
       "      <td>No</td>\n",
       "      <td>Electronic check</td>\n",
       "      <td>86.45</td>\n",
       "      <td>830.85</td>\n",
       "      <td>Yes</td>\n",
       "    </tr>\n",
       "    <tr>\n",
       "      <th>2656</th>\n",
       "      <td>Female</td>\n",
       "      <td>0</td>\n",
       "      <td>No</td>\n",
       "      <td>No</td>\n",
       "      <td>39</td>\n",
       "      <td>Yes</td>\n",
       "      <td>No</td>\n",
       "      <td>DSL</td>\n",
       "      <td>No</td>\n",
       "      <td>No</td>\n",
       "      <td>No</td>\n",
       "      <td>Yes</td>\n",
       "      <td>No</td>\n",
       "      <td>Yes</td>\n",
       "      <td>One year</td>\n",
       "      <td>No</td>\n",
       "      <td>Electronic check</td>\n",
       "      <td>59.30</td>\n",
       "      <td>2209.15</td>\n",
       "      <td>No</td>\n",
       "    </tr>\n",
       "    <tr>\n",
       "      <th>6675</th>\n",
       "      <td>Female</td>\n",
       "      <td>0</td>\n",
       "      <td>No</td>\n",
       "      <td>No</td>\n",
       "      <td>36</td>\n",
       "      <td>Yes</td>\n",
       "      <td>Yes</td>\n",
       "      <td>DSL</td>\n",
       "      <td>No</td>\n",
       "      <td>Yes</td>\n",
       "      <td>No</td>\n",
       "      <td>Yes</td>\n",
       "      <td>No</td>\n",
       "      <td>Yes</td>\n",
       "      <td>One year</td>\n",
       "      <td>Yes</td>\n",
       "      <td>Mailed check</td>\n",
       "      <td>70.70</td>\n",
       "      <td>2511.95</td>\n",
       "      <td>No</td>\n",
       "    </tr>\n",
       "  </tbody>\n",
       "</table>\n",
       "</div>"
      ],
      "text/plain": [
       "      gender  SeniorCitizen Partner Dependents  tenure PhoneService  \\\n",
       "4521  Female              0     Yes         No      46           No   \n",
       "3060    Male              0     Yes         No      25           No   \n",
       "2016  Female              0      No         No      10          Yes   \n",
       "2656  Female              0      No         No      39          Yes   \n",
       "6675  Female              0      No         No      36          Yes   \n",
       "\n",
       "         MultipleLines InternetService OnlineSecurity OnlineBackup  \\\n",
       "4521  No phone service             DSL            Yes          Yes   \n",
       "3060  No phone service             DSL             No           No   \n",
       "2016               Yes     Fiber optic             No           No   \n",
       "2656                No             DSL             No           No   \n",
       "6675               Yes             DSL             No          Yes   \n",
       "\n",
       "     DeviceProtection TechSupport StreamingTV StreamingMovies        Contract  \\\n",
       "4521               No          No         Yes              No  Month-to-month   \n",
       "3060              Yes          No         Yes              No        One year   \n",
       "2016               No          No          No             Yes  Month-to-month   \n",
       "2656               No         Yes          No             Yes        One year   \n",
       "6675               No         Yes          No             Yes        One year   \n",
       "\n",
       "     PaperlessBilling            PaymentMethod  MonthlyCharges TotalCharges  \\\n",
       "4521               No         Electronic check           45.55      2062.15   \n",
       "3060              Yes  Credit card (automatic)           38.10        970.4   \n",
       "2016               No         Electronic check           86.45       830.85   \n",
       "2656               No         Electronic check           59.30      2209.15   \n",
       "6675              Yes             Mailed check           70.70      2511.95   \n",
       "\n",
       "     Churn  \n",
       "4521    No  \n",
       "3060    No  \n",
       "2016   Yes  \n",
       "2656    No  \n",
       "6675    No  "
      ]
     },
     "execution_count": 6,
     "metadata": {},
     "output_type": "execute_result"
    }
   ],
   "source": [
    "df.sample(5)"
   ]
  },
  {
   "cell_type": "code",
   "execution_count": 7,
   "id": "feef7b71",
   "metadata": {},
   "outputs": [
    {
     "data": {
      "text/plain": [
       "(7043, 20)"
      ]
     },
     "execution_count": 7,
     "metadata": {},
     "output_type": "execute_result"
    }
   ],
   "source": [
    "df.shape"
   ]
  },
  {
   "cell_type": "code",
   "execution_count": 9,
   "id": "2d7947f7",
   "metadata": {},
   "outputs": [
    {
     "data": {
      "text/plain": [
       "gender               object\n",
       "SeniorCitizen         int64\n",
       "Partner              object\n",
       "Dependents           object\n",
       "tenure                int64\n",
       "PhoneService         object\n",
       "MultipleLines        object\n",
       "InternetService      object\n",
       "OnlineSecurity       object\n",
       "OnlineBackup         object\n",
       "DeviceProtection     object\n",
       "TechSupport          object\n",
       "StreamingTV          object\n",
       "StreamingMovies      object\n",
       "Contract             object\n",
       "PaperlessBilling     object\n",
       "PaymentMethod        object\n",
       "MonthlyCharges      float64\n",
       "TotalCharges         object\n",
       "Churn                object\n",
       "dtype: object"
      ]
     },
     "execution_count": 9,
     "metadata": {},
     "output_type": "execute_result"
    }
   ],
   "source": [
    "df.dtypes"
   ]
  },
  {
   "cell_type": "code",
   "execution_count": 10,
   "id": "22372ab5",
   "metadata": {},
   "outputs": [
    {
     "data": {
      "text/plain": [
       "array(['29.85', '1889.5', '108.15', ..., '346.45', '306.6', '6844.5'],\n",
       "      dtype=object)"
      ]
     },
     "execution_count": 10,
     "metadata": {},
     "output_type": "execute_result"
    }
   ],
   "source": [
    "df.TotalCharges.values"
   ]
  },
  {
   "cell_type": "code",
   "execution_count": 11,
   "id": "a31e6088",
   "metadata": {},
   "outputs": [
    {
     "data": {
      "text/plain": [
       "array([ 29.85,  56.95,  53.85, ...,  29.6 ,  74.4 , 105.65])"
      ]
     },
     "execution_count": 11,
     "metadata": {},
     "output_type": "execute_result"
    }
   ],
   "source": [
    "df.MonthlyCharges.values"
   ]
  },
  {
   "cell_type": "code",
   "execution_count": 17,
   "id": "e5708cd9",
   "metadata": {},
   "outputs": [
    {
     "data": {
      "text/plain": [
       "11"
      ]
     },
     "execution_count": 17,
     "metadata": {},
     "output_type": "execute_result"
    }
   ],
   "source": [
    "#Covert TotalCharges into numbers\n",
    "pd.to_numeric(df.TotalCharges,errors='coerce').isnull().sum()"
   ]
  },
  {
   "cell_type": "code",
   "execution_count": 21,
   "id": "a8bcbf8f",
   "metadata": {},
   "outputs": [],
   "source": [
    "#drop 11 rows where TotalCharges is blank\n",
    "df=df[df.TotalCharges!=' ']"
   ]
  },
  {
   "cell_type": "code",
   "execution_count": 22,
   "id": "072d5076",
   "metadata": {},
   "outputs": [
    {
     "data": {
      "text/plain": [
       "(7032, 20)"
      ]
     },
     "execution_count": 22,
     "metadata": {},
     "output_type": "execute_result"
    }
   ],
   "source": [
    "df.shape"
   ]
  },
  {
   "cell_type": "code",
   "execution_count": 26,
   "id": "8216c93c",
   "metadata": {},
   "outputs": [
    {
     "name": "stderr",
     "output_type": "stream",
     "text": [
      "/Users/anubhoyar/opt/anaconda3/lib/python3.9/site-packages/pandas/core/generic.py:5516: SettingWithCopyWarning: \n",
      "A value is trying to be set on a copy of a slice from a DataFrame.\n",
      "Try using .loc[row_indexer,col_indexer] = value instead\n",
      "\n",
      "See the caveats in the documentation: https://pandas.pydata.org/pandas-docs/stable/user_guide/indexing.html#returning-a-view-versus-a-copy\n",
      "  self[name] = value\n"
     ]
    }
   ],
   "source": [
    "df.TotalCharges=pd.to_numeric(df.TotalCharges)"
   ]
  },
  {
   "cell_type": "code",
   "execution_count": 27,
   "id": "10e573bc",
   "metadata": {},
   "outputs": [
    {
     "data": {
      "text/plain": [
       "gender               object\n",
       "SeniorCitizen         int64\n",
       "Partner              object\n",
       "Dependents           object\n",
       "tenure                int64\n",
       "PhoneService         object\n",
       "MultipleLines        object\n",
       "InternetService      object\n",
       "OnlineSecurity       object\n",
       "OnlineBackup         object\n",
       "DeviceProtection     object\n",
       "TechSupport          object\n",
       "StreamingTV          object\n",
       "StreamingMovies      object\n",
       "Contract             object\n",
       "PaperlessBilling     object\n",
       "PaymentMethod        object\n",
       "MonthlyCharges      float64\n",
       "TotalCharges        float64\n",
       "Churn                object\n",
       "dtype: object"
      ]
     },
     "execution_count": 27,
     "metadata": {},
     "output_type": "execute_result"
    }
   ],
   "source": [
    "df.dtypes"
   ]
  },
  {
   "cell_type": "code",
   "execution_count": 28,
   "id": "a0972f86",
   "metadata": {},
   "outputs": [
    {
     "data": {
      "text/plain": [
       "dtype('float64')"
      ]
     },
     "execution_count": 28,
     "metadata": {},
     "output_type": "execute_result"
    }
   ],
   "source": [
    "df.TotalCharges.dtypes"
   ]
  },
  {
   "cell_type": "code",
   "execution_count": 31,
   "id": "520e3b60",
   "metadata": {},
   "outputs": [],
   "source": [
    "#tenure of customer who are not leaving\n",
    "tenure_churn_no=df[df.Churn=='No'].tenure\n",
    "tenure_churn_yes=df[df.Churn=='Yes'].tenure"
   ]
  },
  {
   "cell_type": "code",
   "execution_count": 41,
   "id": "f3f3dcaa",
   "metadata": {},
   "outputs": [
    {
     "data": {
      "image/png": "[encoded data removed]",
      "text/plain": [
       "<Figure size 640x480 with 1 Axes>"
      ]
     },
     "metadata": {},
     "output_type": "display_data"
    }
   ],
   "source": [
    "plt.hist([tenure_churn_yes,tenure_churn_no],color=['green','red'],label=['Churn=Yes','Churn=No'])\n",
    "plt.legend()\n",
    "plt.title('Customer churn prediction on the basis of tenure')\n",
    "plt.xlabel(\"tenure\")\n",
    "plt.ylabel(\"No.of customers\")\n",
    "plt.show()"
   ]
  },
  {
   "cell_type": "code",
   "execution_count": 39,
   "id": "ff4a2711",
   "metadata": {},
   "outputs": [],
   "source": [
    "mc_churn_no=df[df.Churn=='No'].MonthlyCharges\n",
    "mc_churn_yes=df[df.Churn=='Yes'].MonthlyCharges"
   ]
  },
  {
   "cell_type": "code",
   "execution_count": 42,
   "id": "bb34b6d1",
   "metadata": {},
   "outputs": [
    {
     "data": {
      "image/png": "[encoded data removed]",
      "text/plain": [
       "<Figure size 640x480 with 1 Axes>"
      ]
     },
     "metadata": {},
     "output_type": "display_data"
    }
   ],
   "source": [
    "plt.hist([mc_churn_yes,mc_churn_no],color=['green','red'],label=['Churn=Yes','Churn=No'])\n",
    "plt.legend()\n",
    "plt.title('Customer churn prediction on the basis of Monthly Charges')\n",
    "plt.xlabel(\"Monthly Charges\")\n",
    "plt.ylabel(\"No.of customers\")\n",
    "plt.show()"
   ]
  },
  {
   "cell_type": "code",
   "execution_count": 46,
   "id": "ceef7f91",
   "metadata": {},
   "outputs": [],
   "source": [
    "def unique_col_values(df):\n",
    "    for column in df:\n",
    "        if df[column].dtypes=='object':\n",
    "            print(f'{column}:{df[column].unique()}')\n",
    "    "
   ]
  },
  {
   "cell_type": "code",
   "execution_count": 47,
   "id": "da578fe8",
   "metadata": {},
   "outputs": [
    {
     "name": "stdout",
     "output_type": "stream",
     "text": [
      "gender:['Female' 'Male']\n",
      "Partner:['Yes' 'No']\n",
      "Dependents:['No' 'Yes']\n",
      "PhoneService:['No' 'Yes']\n",
      "MultipleLines:['No phone service' 'No' 'Yes']\n",
      "InternetService:['DSL' 'Fiber optic' 'No']\n",
      "OnlineSecurity:['No' 'Yes' 'No internet service']\n",
      "OnlineBackup:['Yes' 'No' 'No internet service']\n",
      "DeviceProtection:['No' 'Yes' 'No internet service']\n",
      "TechSupport:['No' 'Yes' 'No internet service']\n",
      "StreamingTV:['No' 'Yes' 'No internet service']\n",
      "StreamingMovies:['No' 'Yes' 'No internet service']\n",
      "Contract:['Month-to-month' 'One year' 'Two year']\n",
      "PaperlessBilling:['Yes' 'No']\n",
      "PaymentMethod:['Electronic check' 'Mailed check' 'Bank transfer (automatic)'\n",
      " 'Credit card (automatic)']\n",
      "Churn:['No' 'Yes']\n"
     ]
    }
   ],
   "source": [
    "unique_col_values(df)"
   ]
  },
  {
   "cell_type": "code",
   "execution_count": 48,
   "id": "bb1a27dc",
   "metadata": {},
   "outputs": [
    {
     "name": "stderr",
     "output_type": "stream",
     "text": [
      "/Users/anubhoyar/opt/anaconda3/lib/python3.9/site-packages/pandas/core/frame.py:5238: SettingWithCopyWarning: \n",
      "A value is trying to be set on a copy of a slice from a DataFrame\n",
      "\n",
      "See the caveats in the documentation: https://pandas.pydata.org/pandas-docs/stable/user_guide/indexing.html#returning-a-view-versus-a-copy\n",
      "  return super().replace(\n"
     ]
    }
   ],
   "source": [
    "#replace 'No internet service' with 'No'\n",
    "df.replace('No internet service','No',inplace=True)\n",
    "df.replace('No phone service','No',inplace=True)"
   ]
  },
  {
   "cell_type": "code",
   "execution_count": 49,
   "id": "d5d36fd3",
   "metadata": {},
   "outputs": [
    {
     "name": "stdout",
     "output_type": "stream",
     "text": [
      "gender:['Female' 'Male']\n",
      "Partner:['Yes' 'No']\n",
      "Dependents:['No' 'Yes']\n",
      "PhoneService:['No' 'Yes']\n",
      "MultipleLines:['No' 'Yes']\n",
      "InternetService:['DSL' 'Fiber optic' 'No']\n",
      "OnlineSecurity:['No' 'Yes']\n",
      "OnlineBackup:['Yes' 'No']\n",
      "DeviceProtection:['No' 'Yes']\n",
      "TechSupport:['No' 'Yes']\n",
      "StreamingTV:['No' 'Yes']\n",
      "StreamingMovies:['No' 'Yes']\n",
      "Contract:['Month-to-month' 'One year' 'Two year']\n",
      "PaperlessBilling:['Yes' 'No']\n",
      "PaymentMethod:['Electronic check' 'Mailed check' 'Bank transfer (automatic)'\n",
      " 'Credit card (automatic)']\n",
      "Churn:['No' 'Yes']\n"
     ]
    }
   ],
   "source": [
    "unique_col_values(df)"
   ]
  },
  {
   "cell_type": "code",
   "execution_count": 50,
   "id": "570c2a9d",
   "metadata": {},
   "outputs": [
    {
     "data": {
      "text/plain": [
       "Index(['gender', 'SeniorCitizen', 'Partner', 'Dependents', 'tenure',\n",
       "       'PhoneService', 'MultipleLines', 'InternetService', 'OnlineSecurity',\n",
       "       'OnlineBackup', 'DeviceProtection', 'TechSupport', 'StreamingTV',\n",
       "       'StreamingMovies', 'Contract', 'PaperlessBilling', 'PaymentMethod',\n",
       "       'MonthlyCharges', 'TotalCharges', 'Churn'],\n",
       "      dtype='object')"
      ]
     },
     "execution_count": 50,
     "metadata": {},
     "output_type": "execute_result"
    }
   ],
   "source": [
    "df.columns"
   ]
  },
  {
   "cell_type": "code",
   "execution_count": 54,
   "id": "9b9c272c",
   "metadata": {},
   "outputs": [],
   "source": [
    "#replace 'Yes' and 'No' with 1 & 0 \n",
    "yes_no_columns=[ 'Partner', 'Dependents', \n",
    "       'PhoneService', 'MultipleLines',  'OnlineSecurity',\n",
    "       'OnlineBackup', 'DeviceProtection', 'TechSupport', 'StreamingTV',\n",
    "       'StreamingMovies', 'PaperlessBilling', 'Churn']\n",
    "for col in yes_no_columns:\n",
    "    df[col].replace({'Yes':1,'No':0},inplace=True)"
   ]
  },
  {
   "cell_type": "code",
   "execution_count": 55,
   "id": "7113e01d",
   "metadata": {},
   "outputs": [
    {
     "name": "stdout",
     "output_type": "stream",
     "text": [
      "gender:['Female' 'Male']\n",
      "InternetService:['DSL' 'Fiber optic' 'No']\n",
      "Contract:['Month-to-month' 'One year' 'Two year']\n",
      "PaymentMethod:['Electronic check' 'Mailed check' 'Bank transfer (automatic)'\n",
      " 'Credit card (automatic)']\n"
     ]
    }
   ],
   "source": [
    "unique_col_values(df)"
   ]
  },
  {
   "cell_type": "code",
   "execution_count": 56,
   "id": "900d8620",
   "metadata": {},
   "outputs": [
    {
     "name": "stdout",
     "output_type": "stream",
     "text": [
      "gender:['Female' 'Male']\n",
      "SeniorCitizen:[0 1]\n",
      "Partner:[1 0]\n",
      "Dependents:[0 1]\n",
      "tenure:[ 1 34  2 45  8 22 10 28 62 13 16 58 49 25 69 52 71 21 12 30 47 72 17 27\n",
      "  5 46 11 70 63 43 15 60 18 66  9  3 31 50 64 56  7 42 35 48 29 65 38 68\n",
      " 32 55 37 36 41  6  4 33 67 23 57 61 14 20 53 40 59 24 44 19 54 51 26 39]\n",
      "PhoneService:[0 1]\n",
      "MultipleLines:[0 1]\n",
      "InternetService:['DSL' 'Fiber optic' 'No']\n",
      "OnlineSecurity:[0 1]\n",
      "OnlineBackup:[1 0]\n",
      "DeviceProtection:[0 1]\n",
      "TechSupport:[0 1]\n",
      "StreamingTV:[0 1]\n",
      "StreamingMovies:[0 1]\n",
      "Contract:['Month-to-month' 'One year' 'Two year']\n",
      "PaperlessBilling:[1 0]\n",
      "PaymentMethod:['Electronic check' 'Mailed check' 'Bank transfer (automatic)'\n",
      " 'Credit card (automatic)']\n",
      "MonthlyCharges:[29.85 56.95 53.85 ... 63.1  44.2  78.7 ]\n",
      "TotalCharges:[  29.85 1889.5   108.15 ...  346.45  306.6  6844.5 ]\n",
      "Churn:[0 1]\n"
     ]
    }
   ],
   "source": [
    "for column in df:\n",
    "    print(f'{column}:{df[column].unique()}')"
   ]
  },
  {
   "cell_type": "code",
   "execution_count": 57,
   "id": "02b7d662",
   "metadata": {},
   "outputs": [],
   "source": [
    "#replace Female and Male values of gender with 1 and 0\n",
    "df['gender'].replace({'Female':1,'Male':0},inplace=True)"
   ]
  },
  {
   "cell_type": "code",
   "execution_count": 59,
   "id": "d438f756",
   "metadata": {},
   "outputs": [
    {
     "data": {
      "text/plain": [
       "array([1, 0])"
      ]
     },
     "execution_count": 59,
     "metadata": {},
     "output_type": "execute_result"
    }
   ],
   "source": [
    "df['gender'].unique()"
   ]
  },
  {
   "cell_type": "code",
   "execution_count": 61,
   "id": "ed0437a9",
   "metadata": {},
   "outputs": [
    {
     "data": {
      "text/plain": [
       "Index(['gender', 'SeniorCitizen', 'Partner', 'Dependents', 'tenure',\n",
       "       'PhoneService', 'MultipleLines', 'OnlineSecurity', 'OnlineBackup',\n",
       "       'DeviceProtection', 'TechSupport', 'StreamingTV', 'StreamingMovies',\n",
       "       'PaperlessBilling', 'MonthlyCharges', 'TotalCharges', 'Churn',\n",
       "       'Contract_Month-to-month', 'Contract_One year', 'Contract_Two year',\n",
       "       'PaymentMethod_Bank transfer (automatic)',\n",
       "       'PaymentMethod_Credit card (automatic)',\n",
       "       'PaymentMethod_Electronic check', 'PaymentMethod_Mailed check',\n",
       "       'InternetService_DSL', 'InternetService_Fiber optic',\n",
       "       'InternetService_No'],\n",
       "      dtype='object')"
      ]
     },
     "execution_count": 61,
     "metadata": {},
     "output_type": "execute_result"
    }
   ],
   "source": [
    "#apply one hot encodeing for Contract,PaymentMethod,InternetService columns\n",
    "df1=pd.get_dummies(data=df,columns=['Contract','PaymentMethod','InternetService'])\n",
    "df1.columns"
   ]
  },
  {
   "cell_type": "code",
   "execution_count": 62,
   "id": "4b5665fe",
   "metadata": {},
   "outputs": [
    {
     "data": {
      "text/plain": [
       "(7032, 27)"
      ]
     },
     "execution_count": 62,
     "metadata": {},
     "output_type": "execute_result"
    }
   ],
   "source": [
    "df1.shape"
   ]
  },
  {
   "cell_type": "code",
   "execution_count": 63,
   "id": "d0b36260",
   "metadata": {},
   "outputs": [
    {
     "data": {
      "text/html": [
       "<div>\n",
       "<style scoped>\n",
       "    .dataframe tbody tr th:only-of-type {\n",
       "        vertical-align: middle;\n",
       "    }\n",
       "\n",
       "    .dataframe tbody tr th {\n",
       "        vertical-align: top;\n",
       "    }\n",
       "\n",
       "    .dataframe thead th {\n",
       "        text-align: right;\n",
       "    }\n",
       "</style>\n",
       "<table border=\"1\" class=\"dataframe\">\n",
       "  <thead>\n",
       "    <tr style=\"text-align: right;\">\n",
       "      <th></th>\n",
       "      <th>gender</th>\n",
       "      <th>SeniorCitizen</th>\n",
       "      <th>Partner</th>\n",
       "      <th>Dependents</th>\n",
       "      <th>tenure</th>\n",
       "      <th>PhoneService</th>\n",
       "      <th>MultipleLines</th>\n",
       "      <th>OnlineSecurity</th>\n",
       "      <th>OnlineBackup</th>\n",
       "      <th>DeviceProtection</th>\n",
       "      <th>...</th>\n",
       "      <th>Contract_Month-to-month</th>\n",
       "      <th>Contract_One year</th>\n",
       "      <th>Contract_Two year</th>\n",
       "      <th>PaymentMethod_Bank transfer (automatic)</th>\n",
       "      <th>PaymentMethod_Credit card (automatic)</th>\n",
       "      <th>PaymentMethod_Electronic check</th>\n",
       "      <th>PaymentMethod_Mailed check</th>\n",
       "      <th>InternetService_DSL</th>\n",
       "      <th>InternetService_Fiber optic</th>\n",
       "      <th>InternetService_No</th>\n",
       "    </tr>\n",
       "  </thead>\n",
       "  <tbody>\n",
       "    <tr>\n",
       "      <th>2401</th>\n",
       "      <td>0</td>\n",
       "      <td>1</td>\n",
       "      <td>0</td>\n",
       "      <td>1</td>\n",
       "      <td>11</td>\n",
       "      <td>1</td>\n",
       "      <td>0</td>\n",
       "      <td>0</td>\n",
       "      <td>1</td>\n",
       "      <td>0</td>\n",
       "      <td>...</td>\n",
       "      <td>1</td>\n",
       "      <td>0</td>\n",
       "      <td>0</td>\n",
       "      <td>0</td>\n",
       "      <td>0</td>\n",
       "      <td>1</td>\n",
       "      <td>0</td>\n",
       "      <td>1</td>\n",
       "      <td>0</td>\n",
       "      <td>0</td>\n",
       "    </tr>\n",
       "    <tr>\n",
       "      <th>4049</th>\n",
       "      <td>1</td>\n",
       "      <td>1</td>\n",
       "      <td>1</td>\n",
       "      <td>0</td>\n",
       "      <td>46</td>\n",
       "      <td>1</td>\n",
       "      <td>1</td>\n",
       "      <td>0</td>\n",
       "      <td>0</td>\n",
       "      <td>0</td>\n",
       "      <td>...</td>\n",
       "      <td>0</td>\n",
       "      <td>1</td>\n",
       "      <td>0</td>\n",
       "      <td>0</td>\n",
       "      <td>0</td>\n",
       "      <td>1</td>\n",
       "      <td>0</td>\n",
       "      <td>0</td>\n",
       "      <td>1</td>\n",
       "      <td>0</td>\n",
       "    </tr>\n",
       "  </tbody>\n",
       "</table>\n",
       "<p>2 rows × 27 columns</p>\n",
       "</div>"
      ],
      "text/plain": [
       "      gender  SeniorCitizen  Partner  Dependents  tenure  PhoneService  \\\n",
       "2401       0              1        0           1      11             1   \n",
       "4049       1              1        1           0      46             1   \n",
       "\n",
       "      MultipleLines  OnlineSecurity  OnlineBackup  DeviceProtection  ...  \\\n",
       "2401              0               0             1                 0  ...   \n",
       "4049              1               0             0                 0  ...   \n",
       "\n",
       "      Contract_Month-to-month  Contract_One year  Contract_Two year  \\\n",
       "2401                        1                  0                  0   \n",
       "4049                        0                  1                  0   \n",
       "\n",
       "      PaymentMethod_Bank transfer (automatic)  \\\n",
       "2401                                        0   \n",
       "4049                                        0   \n",
       "\n",
       "      PaymentMethod_Credit card (automatic)  PaymentMethod_Electronic check  \\\n",
       "2401                                      0                               1   \n",
       "4049                                      0                               1   \n",
       "\n",
       "      PaymentMethod_Mailed check  InternetService_DSL  \\\n",
       "2401                           0                    1   \n",
       "4049                           0                    0   \n",
       "\n",
       "      InternetService_Fiber optic  InternetService_No  \n",
       "2401                            0                   0  \n",
       "4049                            1                   0  \n",
       "\n",
       "[2 rows x 27 columns]"
      ]
     },
     "execution_count": 63,
     "metadata": {},
     "output_type": "execute_result"
    }
   ],
   "source": [
    "df1.sample(2)"
   ]
  },
  {
   "cell_type": "code",
   "execution_count": 64,
   "id": "a95368f0",
   "metadata": {},
   "outputs": [
    {
     "data": {
      "text/plain": [
       "gender                                       int64\n",
       "SeniorCitizen                                int64\n",
       "Partner                                      int64\n",
       "Dependents                                   int64\n",
       "tenure                                       int64\n",
       "PhoneService                                 int64\n",
       "MultipleLines                                int64\n",
       "OnlineSecurity                               int64\n",
       "OnlineBackup                                 int64\n",
       "DeviceProtection                             int64\n",
       "TechSupport                                  int64\n",
       "StreamingTV                                  int64\n",
       "StreamingMovies                              int64\n",
       "PaperlessBilling                             int64\n",
       "MonthlyCharges                             float64\n",
       "TotalCharges                               float64\n",
       "Churn                                        int64\n",
       "Contract_Month-to-month                      uint8\n",
       "Contract_One year                            uint8\n",
       "Contract_Two year                            uint8\n",
       "PaymentMethod_Bank transfer (automatic)      uint8\n",
       "PaymentMethod_Credit card (automatic)        uint8\n",
       "PaymentMethod_Electronic check               uint8\n",
       "PaymentMethod_Mailed check                   uint8\n",
       "InternetService_DSL                          uint8\n",
       "InternetService_Fiber optic                  uint8\n",
       "InternetService_No                           uint8\n",
       "dtype: object"
      ]
     },
     "execution_count": 64,
     "metadata": {},
     "output_type": "execute_result"
    }
   ],
   "source": [
    "df1.dtypes"
   ]
  },
  {
   "cell_type": "markdown",
   "id": "6acfce07",
   "metadata": {},
   "source": [
    "Scaling"
   ]
  },
  {
   "cell_type": "code",
   "execution_count": 65,
   "id": "b4edc63e",
   "metadata": {},
   "outputs": [],
   "source": [
    "cols_to_scale=['tenure','MonthlyCharges','TotalCharges']\n",
    "\n",
    "from sklearn.preprocessing import MinMaxScaler\n",
    "scaler=MinMaxScaler()\n",
    "df1[cols_to_scale]=scaler.fit_transform(df1[cols_to_scale])"
   ]
  },
  {
   "cell_type": "code",
   "execution_count": 66,
   "id": "4b4c7cac",
   "metadata": {},
   "outputs": [
    {
     "data": {
      "text/html": [
       "<div>\n",
       "<style scoped>\n",
       "    .dataframe tbody tr th:only-of-type {\n",
       "        vertical-align: middle;\n",
       "    }\n",
       "\n",
       "    .dataframe tbody tr th {\n",
       "        vertical-align: top;\n",
       "    }\n",
       "\n",
       "    .dataframe thead th {\n",
       "        text-align: right;\n",
       "    }\n",
       "</style>\n",
       "<table border=\"1\" class=\"dataframe\">\n",
       "  <thead>\n",
       "    <tr style=\"text-align: right;\">\n",
       "      <th></th>\n",
       "      <th>gender</th>\n",
       "      <th>SeniorCitizen</th>\n",
       "      <th>Partner</th>\n",
       "      <th>Dependents</th>\n",
       "      <th>tenure</th>\n",
       "      <th>PhoneService</th>\n",
       "      <th>MultipleLines</th>\n",
       "      <th>OnlineSecurity</th>\n",
       "      <th>OnlineBackup</th>\n",
       "      <th>DeviceProtection</th>\n",
       "      <th>...</th>\n",
       "      <th>Contract_Month-to-month</th>\n",
       "      <th>Contract_One year</th>\n",
       "      <th>Contract_Two year</th>\n",
       "      <th>PaymentMethod_Bank transfer (automatic)</th>\n",
       "      <th>PaymentMethod_Credit card (automatic)</th>\n",
       "      <th>PaymentMethod_Electronic check</th>\n",
       "      <th>PaymentMethod_Mailed check</th>\n",
       "      <th>InternetService_DSL</th>\n",
       "      <th>InternetService_Fiber optic</th>\n",
       "      <th>InternetService_No</th>\n",
       "    </tr>\n",
       "  </thead>\n",
       "  <tbody>\n",
       "    <tr>\n",
       "      <th>4235</th>\n",
       "      <td>1</td>\n",
       "      <td>1</td>\n",
       "      <td>1</td>\n",
       "      <td>0</td>\n",
       "      <td>0.774648</td>\n",
       "      <td>1</td>\n",
       "      <td>1</td>\n",
       "      <td>1</td>\n",
       "      <td>1</td>\n",
       "      <td>1</td>\n",
       "      <td>...</td>\n",
       "      <td>0</td>\n",
       "      <td>1</td>\n",
       "      <td>0</td>\n",
       "      <td>0</td>\n",
       "      <td>0</td>\n",
       "      <td>1</td>\n",
       "      <td>0</td>\n",
       "      <td>0</td>\n",
       "      <td>1</td>\n",
       "      <td>0</td>\n",
       "    </tr>\n",
       "    <tr>\n",
       "      <th>2779</th>\n",
       "      <td>0</td>\n",
       "      <td>0</td>\n",
       "      <td>0</td>\n",
       "      <td>0</td>\n",
       "      <td>0.112676</td>\n",
       "      <td>1</td>\n",
       "      <td>1</td>\n",
       "      <td>0</td>\n",
       "      <td>0</td>\n",
       "      <td>0</td>\n",
       "      <td>...</td>\n",
       "      <td>1</td>\n",
       "      <td>0</td>\n",
       "      <td>0</td>\n",
       "      <td>0</td>\n",
       "      <td>0</td>\n",
       "      <td>1</td>\n",
       "      <td>0</td>\n",
       "      <td>0</td>\n",
       "      <td>1</td>\n",
       "      <td>0</td>\n",
       "    </tr>\n",
       "  </tbody>\n",
       "</table>\n",
       "<p>2 rows × 27 columns</p>\n",
       "</div>"
      ],
      "text/plain": [
       "      gender  SeniorCitizen  Partner  Dependents    tenure  PhoneService  \\\n",
       "4235       1              1        1           0  0.774648             1   \n",
       "2779       0              0        0           0  0.112676             1   \n",
       "\n",
       "      MultipleLines  OnlineSecurity  OnlineBackup  DeviceProtection  ...  \\\n",
       "4235              1               1             1                 1  ...   \n",
       "2779              1               0             0                 0  ...   \n",
       "\n",
       "      Contract_Month-to-month  Contract_One year  Contract_Two year  \\\n",
       "4235                        0                  1                  0   \n",
       "2779                        1                  0                  0   \n",
       "\n",
       "      PaymentMethod_Bank transfer (automatic)  \\\n",
       "4235                                        0   \n",
       "2779                                        0   \n",
       "\n",
       "      PaymentMethod_Credit card (automatic)  PaymentMethod_Electronic check  \\\n",
       "4235                                      0                               1   \n",
       "2779                                      0                               1   \n",
       "\n",
       "      PaymentMethod_Mailed check  InternetService_DSL  \\\n",
       "4235                           0                    0   \n",
       "2779                           0                    0   \n",
       "\n",
       "      InternetService_Fiber optic  InternetService_No  \n",
       "4235                            1                   0  \n",
       "2779                            1                   0  \n",
       "\n",
       "[2 rows x 27 columns]"
      ]
     },
     "execution_count": 66,
     "metadata": {},
     "output_type": "execute_result"
    }
   ],
   "source": [
    "df1.sample(2)"
   ]
  },
  {
   "cell_type": "code",
   "execution_count": 69,
   "id": "c6078e95",
   "metadata": {},
   "outputs": [
    {
     "name": "stdout",
     "output_type": "stream",
     "text": [
      "gender:[1 0]\n",
      "SeniorCitizen:[0 1]\n",
      "Partner:[1 0]\n",
      "Dependents:[0 1]\n",
      "tenure:[0.         0.46478873 0.01408451 0.61971831 0.09859155 0.29577465\n",
      " 0.12676056 0.38028169 0.85915493 0.16901408 0.21126761 0.8028169\n",
      " 0.67605634 0.33802817 0.95774648 0.71830986 0.98591549 0.28169014\n",
      " 0.15492958 0.4084507  0.64788732 1.         0.22535211 0.36619718\n",
      " 0.05633803 0.63380282 0.14084507 0.97183099 0.87323944 0.5915493\n",
      " 0.1971831  0.83098592 0.23943662 0.91549296 0.11267606 0.02816901\n",
      " 0.42253521 0.69014085 0.88732394 0.77464789 0.08450704 0.57746479\n",
      " 0.47887324 0.66197183 0.3943662  0.90140845 0.52112676 0.94366197\n",
      " 0.43661972 0.76056338 0.50704225 0.49295775 0.56338028 0.07042254\n",
      " 0.04225352 0.45070423 0.92957746 0.30985915 0.78873239 0.84507042\n",
      " 0.18309859 0.26760563 0.73239437 0.54929577 0.81690141 0.32394366\n",
      " 0.6056338  0.25352113 0.74647887 0.70422535 0.35211268 0.53521127]\n",
      "PhoneService:[0 1]\n",
      "MultipleLines:[0 1]\n",
      "OnlineSecurity:[0 1]\n",
      "OnlineBackup:[1 0]\n",
      "DeviceProtection:[0 1]\n",
      "TechSupport:[0 1]\n",
      "StreamingTV:[0 1]\n",
      "StreamingMovies:[0 1]\n",
      "PaperlessBilling:[1 0]\n",
      "MonthlyCharges:[0.11542289 0.38507463 0.35422886 ... 0.44626866 0.25820896 0.60149254]\n",
      "TotalCharges:[0.0012751  0.21586661 0.01031041 ... 0.03780868 0.03321025 0.78764136]\n",
      "Churn:[0 1]\n",
      "Contract_Month-to-month:[1 0]\n",
      "Contract_One year:[0 1]\n",
      "Contract_Two year:[0 1]\n",
      "PaymentMethod_Bank transfer (automatic):[0 1]\n",
      "PaymentMethod_Credit card (automatic):[0 1]\n",
      "PaymentMethod_Electronic check:[1 0]\n",
      "PaymentMethod_Mailed check:[0 1]\n",
      "InternetService_DSL:[1 0]\n",
      "InternetService_Fiber optic:[0 1]\n",
      "InternetService_No:[0 1]\n"
     ]
    }
   ],
   "source": [
    "for column in df1:\n",
    "    print(f'{column}:{df1[column].unique()}')"
   ]
  },
  {
   "cell_type": "code",
   "execution_count": 70,
   "id": "865996cf",
   "metadata": {},
   "outputs": [],
   "source": [
    "X=df1.drop('Churn',axis='columns')\n",
    "y=df1['Churn']"
   ]
  },
  {
   "cell_type": "markdown",
   "id": "af77c838",
   "metadata": {},
   "source": [
    "#### Train test split"
   ]
  },
  {
   "cell_type": "code",
   "execution_count": 71,
   "id": "9af3db69",
   "metadata": {},
   "outputs": [],
   "source": [
    "from sklearn.model_selection import train_test_split\n",
    "X_train,X_test,y_train,y_test=train_test_split(X,y,test_size=0.2,random_state=5)"
   ]
  },
  {
   "cell_type": "code",
   "execution_count": 72,
   "id": "ced4d170",
   "metadata": {},
   "outputs": [
    {
     "data": {
      "text/plain": [
       "(5625, 26)"
      ]
     },
     "execution_count": 72,
     "metadata": {},
     "output_type": "execute_result"
    }
   ],
   "source": [
    "X_train.shape"
   ]
  },
  {
   "cell_type": "code",
   "execution_count": 74,
   "id": "3a5d3ba9",
   "metadata": {},
   "outputs": [
    {
     "data": {
      "text/plain": [
       "(1407, 26)"
      ]
     },
     "execution_count": 74,
     "metadata": {},
     "output_type": "execute_result"
    }
   ],
   "source": [
    "X_test.shape"
   ]
  },
  {
   "cell_type": "code",
   "execution_count": 75,
   "id": "0d40d830",
   "metadata": {},
   "outputs": [
    {
     "data": {
      "text/html": [
       "<div>\n",
       "<style scoped>\n",
       "    .dataframe tbody tr th:only-of-type {\n",
       "        vertical-align: middle;\n",
       "    }\n",
       "\n",
       "    .dataframe tbody tr th {\n",
       "        vertical-align: top;\n",
       "    }\n",
       "\n",
       "    .dataframe thead th {\n",
       "        text-align: right;\n",
       "    }\n",
       "</style>\n",
       "<table border=\"1\" class=\"dataframe\">\n",
       "  <thead>\n",
       "    <tr style=\"text-align: right;\">\n",
       "      <th></th>\n",
       "      <th>gender</th>\n",
       "      <th>SeniorCitizen</th>\n",
       "      <th>Partner</th>\n",
       "      <th>Dependents</th>\n",
       "      <th>tenure</th>\n",
       "      <th>PhoneService</th>\n",
       "      <th>MultipleLines</th>\n",
       "      <th>OnlineSecurity</th>\n",
       "      <th>OnlineBackup</th>\n",
       "      <th>DeviceProtection</th>\n",
       "      <th>...</th>\n",
       "      <th>Contract_Month-to-month</th>\n",
       "      <th>Contract_One year</th>\n",
       "      <th>Contract_Two year</th>\n",
       "      <th>PaymentMethod_Bank transfer (automatic)</th>\n",
       "      <th>PaymentMethod_Credit card (automatic)</th>\n",
       "      <th>PaymentMethod_Electronic check</th>\n",
       "      <th>PaymentMethod_Mailed check</th>\n",
       "      <th>InternetService_DSL</th>\n",
       "      <th>InternetService_Fiber optic</th>\n",
       "      <th>InternetService_No</th>\n",
       "    </tr>\n",
       "  </thead>\n",
       "  <tbody>\n",
       "    <tr>\n",
       "      <th>5664</th>\n",
       "      <td>1</td>\n",
       "      <td>1</td>\n",
       "      <td>0</td>\n",
       "      <td>0</td>\n",
       "      <td>0.126761</td>\n",
       "      <td>1</td>\n",
       "      <td>0</td>\n",
       "      <td>0</td>\n",
       "      <td>0</td>\n",
       "      <td>1</td>\n",
       "      <td>...</td>\n",
       "      <td>1</td>\n",
       "      <td>0</td>\n",
       "      <td>0</td>\n",
       "      <td>0</td>\n",
       "      <td>1</td>\n",
       "      <td>0</td>\n",
       "      <td>0</td>\n",
       "      <td>0</td>\n",
       "      <td>1</td>\n",
       "      <td>0</td>\n",
       "    </tr>\n",
       "    <tr>\n",
       "      <th>101</th>\n",
       "      <td>1</td>\n",
       "      <td>0</td>\n",
       "      <td>1</td>\n",
       "      <td>1</td>\n",
       "      <td>0.000000</td>\n",
       "      <td>1</td>\n",
       "      <td>0</td>\n",
       "      <td>0</td>\n",
       "      <td>0</td>\n",
       "      <td>0</td>\n",
       "      <td>...</td>\n",
       "      <td>1</td>\n",
       "      <td>0</td>\n",
       "      <td>0</td>\n",
       "      <td>0</td>\n",
       "      <td>0</td>\n",
       "      <td>1</td>\n",
       "      <td>0</td>\n",
       "      <td>0</td>\n",
       "      <td>0</td>\n",
       "      <td>1</td>\n",
       "    </tr>\n",
       "    <tr>\n",
       "      <th>2621</th>\n",
       "      <td>0</td>\n",
       "      <td>0</td>\n",
       "      <td>1</td>\n",
       "      <td>0</td>\n",
       "      <td>0.985915</td>\n",
       "      <td>1</td>\n",
       "      <td>0</td>\n",
       "      <td>0</td>\n",
       "      <td>1</td>\n",
       "      <td>1</td>\n",
       "      <td>...</td>\n",
       "      <td>0</td>\n",
       "      <td>0</td>\n",
       "      <td>1</td>\n",
       "      <td>0</td>\n",
       "      <td>1</td>\n",
       "      <td>0</td>\n",
       "      <td>0</td>\n",
       "      <td>1</td>\n",
       "      <td>0</td>\n",
       "      <td>0</td>\n",
       "    </tr>\n",
       "    <tr>\n",
       "      <th>392</th>\n",
       "      <td>1</td>\n",
       "      <td>1</td>\n",
       "      <td>0</td>\n",
       "      <td>0</td>\n",
       "      <td>0.014085</td>\n",
       "      <td>1</td>\n",
       "      <td>0</td>\n",
       "      <td>0</td>\n",
       "      <td>0</td>\n",
       "      <td>0</td>\n",
       "      <td>...</td>\n",
       "      <td>1</td>\n",
       "      <td>0</td>\n",
       "      <td>0</td>\n",
       "      <td>0</td>\n",
       "      <td>0</td>\n",
       "      <td>1</td>\n",
       "      <td>0</td>\n",
       "      <td>1</td>\n",
       "      <td>0</td>\n",
       "      <td>0</td>\n",
       "    </tr>\n",
       "    <tr>\n",
       "      <th>1327</th>\n",
       "      <td>0</td>\n",
       "      <td>0</td>\n",
       "      <td>1</td>\n",
       "      <td>0</td>\n",
       "      <td>0.816901</td>\n",
       "      <td>1</td>\n",
       "      <td>1</td>\n",
       "      <td>0</td>\n",
       "      <td>0</td>\n",
       "      <td>1</td>\n",
       "      <td>...</td>\n",
       "      <td>0</td>\n",
       "      <td>1</td>\n",
       "      <td>0</td>\n",
       "      <td>1</td>\n",
       "      <td>0</td>\n",
       "      <td>0</td>\n",
       "      <td>0</td>\n",
       "      <td>0</td>\n",
       "      <td>1</td>\n",
       "      <td>0</td>\n",
       "    </tr>\n",
       "    <tr>\n",
       "      <th>3607</th>\n",
       "      <td>1</td>\n",
       "      <td>0</td>\n",
       "      <td>0</td>\n",
       "      <td>0</td>\n",
       "      <td>0.169014</td>\n",
       "      <td>1</td>\n",
       "      <td>0</td>\n",
       "      <td>1</td>\n",
       "      <td>0</td>\n",
       "      <td>0</td>\n",
       "      <td>...</td>\n",
       "      <td>0</td>\n",
       "      <td>1</td>\n",
       "      <td>0</td>\n",
       "      <td>0</td>\n",
       "      <td>0</td>\n",
       "      <td>0</td>\n",
       "      <td>1</td>\n",
       "      <td>1</td>\n",
       "      <td>0</td>\n",
       "      <td>0</td>\n",
       "    </tr>\n",
       "    <tr>\n",
       "      <th>2773</th>\n",
       "      <td>0</td>\n",
       "      <td>0</td>\n",
       "      <td>1</td>\n",
       "      <td>0</td>\n",
       "      <td>0.323944</td>\n",
       "      <td>0</td>\n",
       "      <td>0</td>\n",
       "      <td>0</td>\n",
       "      <td>0</td>\n",
       "      <td>1</td>\n",
       "      <td>...</td>\n",
       "      <td>1</td>\n",
       "      <td>0</td>\n",
       "      <td>0</td>\n",
       "      <td>0</td>\n",
       "      <td>0</td>\n",
       "      <td>1</td>\n",
       "      <td>0</td>\n",
       "      <td>1</td>\n",
       "      <td>0</td>\n",
       "      <td>0</td>\n",
       "    </tr>\n",
       "    <tr>\n",
       "      <th>1936</th>\n",
       "      <td>1</td>\n",
       "      <td>0</td>\n",
       "      <td>1</td>\n",
       "      <td>0</td>\n",
       "      <td>0.704225</td>\n",
       "      <td>1</td>\n",
       "      <td>0</td>\n",
       "      <td>1</td>\n",
       "      <td>1</td>\n",
       "      <td>0</td>\n",
       "      <td>...</td>\n",
       "      <td>0</td>\n",
       "      <td>1</td>\n",
       "      <td>0</td>\n",
       "      <td>1</td>\n",
       "      <td>0</td>\n",
       "      <td>0</td>\n",
       "      <td>0</td>\n",
       "      <td>1</td>\n",
       "      <td>0</td>\n",
       "      <td>0</td>\n",
       "    </tr>\n",
       "    <tr>\n",
       "      <th>5387</th>\n",
       "      <td>0</td>\n",
       "      <td>0</td>\n",
       "      <td>0</td>\n",
       "      <td>0</td>\n",
       "      <td>0.042254</td>\n",
       "      <td>0</td>\n",
       "      <td>0</td>\n",
       "      <td>0</td>\n",
       "      <td>0</td>\n",
       "      <td>0</td>\n",
       "      <td>...</td>\n",
       "      <td>1</td>\n",
       "      <td>0</td>\n",
       "      <td>0</td>\n",
       "      <td>0</td>\n",
       "      <td>0</td>\n",
       "      <td>1</td>\n",
       "      <td>0</td>\n",
       "      <td>1</td>\n",
       "      <td>0</td>\n",
       "      <td>0</td>\n",
       "    </tr>\n",
       "    <tr>\n",
       "      <th>4331</th>\n",
       "      <td>0</td>\n",
       "      <td>0</td>\n",
       "      <td>0</td>\n",
       "      <td>0</td>\n",
       "      <td>0.985915</td>\n",
       "      <td>1</td>\n",
       "      <td>1</td>\n",
       "      <td>0</td>\n",
       "      <td>0</td>\n",
       "      <td>0</td>\n",
       "      <td>...</td>\n",
       "      <td>0</td>\n",
       "      <td>0</td>\n",
       "      <td>1</td>\n",
       "      <td>1</td>\n",
       "      <td>0</td>\n",
       "      <td>0</td>\n",
       "      <td>0</td>\n",
       "      <td>0</td>\n",
       "      <td>0</td>\n",
       "      <td>1</td>\n",
       "    </tr>\n",
       "  </tbody>\n",
       "</table>\n",
       "<p>10 rows × 26 columns</p>\n",
       "</div>"
      ],
      "text/plain": [
       "      gender  SeniorCitizen  Partner  Dependents    tenure  PhoneService  \\\n",
       "5664       1              1        0           0  0.126761             1   \n",
       "101        1              0        1           1  0.000000             1   \n",
       "2621       0              0        1           0  0.985915             1   \n",
       "392        1              1        0           0  0.014085             1   \n",
       "1327       0              0        1           0  0.816901             1   \n",
       "3607       1              0        0           0  0.169014             1   \n",
       "2773       0              0        1           0  0.323944             0   \n",
       "1936       1              0        1           0  0.704225             1   \n",
       "5387       0              0        0           0  0.042254             0   \n",
       "4331       0              0        0           0  0.985915             1   \n",
       "\n",
       "      MultipleLines  OnlineSecurity  OnlineBackup  DeviceProtection  ...  \\\n",
       "5664              0               0             0                 1  ...   \n",
       "101               0               0             0                 0  ...   \n",
       "2621              0               0             1                 1  ...   \n",
       "392               0               0             0                 0  ...   \n",
       "1327              1               0             0                 1  ...   \n",
       "3607              0               1             0                 0  ...   \n",
       "2773              0               0             0                 1  ...   \n",
       "1936              0               1             1                 0  ...   \n",
       "5387              0               0             0                 0  ...   \n",
       "4331              1               0             0                 0  ...   \n",
       "\n",
       "      Contract_Month-to-month  Contract_One year  Contract_Two year  \\\n",
       "5664                        1                  0                  0   \n",
       "101                         1                  0                  0   \n",
       "2621                        0                  0                  1   \n",
       "392                         1                  0                  0   \n",
       "1327                        0                  1                  0   \n",
       "3607                        0                  1                  0   \n",
       "2773                        1                  0                  0   \n",
       "1936                        0                  1                  0   \n",
       "5387                        1                  0                  0   \n",
       "4331                        0                  0                  1   \n",
       "\n",
       "      PaymentMethod_Bank transfer (automatic)  \\\n",
       "5664                                        0   \n",
       "101                                         0   \n",
       "2621                                        0   \n",
       "392                                         0   \n",
       "1327                                        1   \n",
       "3607                                        0   \n",
       "2773                                        0   \n",
       "1936                                        1   \n",
       "5387                                        0   \n",
       "4331                                        1   \n",
       "\n",
       "      PaymentMethod_Credit card (automatic)  PaymentMethod_Electronic check  \\\n",
       "5664                                      1                               0   \n",
       "101                                       0                               1   \n",
       "2621                                      1                               0   \n",
       "392                                       0                               1   \n",
       "1327                                      0                               0   \n",
       "3607                                      0                               0   \n",
       "2773                                      0                               1   \n",
       "1936                                      0                               0   \n",
       "5387                                      0                               1   \n",
       "4331                                      0                               0   \n",
       "\n",
       "      PaymentMethod_Mailed check  InternetService_DSL  \\\n",
       "5664                           0                    0   \n",
       "101                            0                    0   \n",
       "2621                           0                    1   \n",
       "392                            0                    1   \n",
       "1327                           0                    0   \n",
       "3607                           1                    1   \n",
       "2773                           0                    1   \n",
       "1936                           0                    1   \n",
       "5387                           0                    1   \n",
       "4331                           0                    0   \n",
       "\n",
       "      InternetService_Fiber optic  InternetService_No  \n",
       "5664                            1                   0  \n",
       "101                             0                   1  \n",
       "2621                            0                   0  \n",
       "392                             0                   0  \n",
       "1327                            1                   0  \n",
       "3607                            0                   0  \n",
       "2773                            0                   0  \n",
       "1936                            0                   0  \n",
       "5387                            0                   0  \n",
       "4331                            0                   1  \n",
       "\n",
       "[10 rows x 26 columns]"
      ]
     },
     "execution_count": 75,
     "metadata": {},
     "output_type": "execute_result"
    }
   ],
   "source": [
    "X_train[:10]"
   ]
  },
  {
   "cell_type": "code",
   "execution_count": 82,
   "id": "1c19eb23",
   "metadata": {},
   "outputs": [
    {
     "name": "stdout",
     "output_type": "stream",
     "text": [
      "Epoch 1/10\n",
      "176/176 [==============================] - 0s 597us/step - loss: 0.5263 - accuracy: 0.7282\n",
      "Epoch 2/10\n",
      "176/176 [==============================] - 0s 567us/step - loss: 0.4339 - accuracy: 0.7938\n",
      "Epoch 3/10\n",
      "176/176 [==============================] - 0s 570us/step - loss: 0.4212 - accuracy: 0.7989\n",
      "Epoch 4/10\n",
      "176/176 [==============================] - 0s 564us/step - loss: 0.4170 - accuracy: 0.8023\n",
      "Epoch 5/10\n",
      "176/176 [==============================] - 0s 549us/step - loss: 0.4149 - accuracy: 0.8050\n",
      "Epoch 6/10\n",
      "176/176 [==============================] - 0s 563us/step - loss: 0.4131 - accuracy: 0.8066\n",
      "Epoch 7/10\n",
      "176/176 [==============================] - 0s 554us/step - loss: 0.4122 - accuracy: 0.8084\n",
      "Epoch 8/10\n",
      "176/176 [==============================] - 0s 583us/step - loss: 0.4107 - accuracy: 0.8098\n",
      "Epoch 9/10\n",
      "176/176 [==============================] - 0s 561us/step - loss: 0.4100 - accuracy: 0.8103\n",
      "Epoch 10/10\n",
      "176/176 [==============================] - 0s 570us/step - loss: 0.4089 - accuracy: 0.8101\n"
     ]
    },
    {
     "data": {
      "text/plain": [
       "<keras.callbacks.History at 0x7fc3e4578cd0>"
      ]
     },
     "execution_count": 82,
     "metadata": {},
     "output_type": "execute_result"
    }
   ],
   "source": [
    "import tensorflow as tf\n",
    "from tensorflow import keras\n",
    "\n",
    "model=keras.Sequential([\n",
    "    keras.layers.Dense(20,input_shape=(26,),activation='relu'),\n",
    "    keras.layers.Dense(1,activation='sigmoid'),\n",
    "])\n",
    "model.compile(optimizer='adam',\n",
    "             loss=('binary_crossentropy'),\n",
    "             metrics=['accuracy'])\n",
    "model.fit(X_train,y_train,epochs=10)    "
   ]
  },
  {
   "cell_type": "code",
   "execution_count": 83,
   "id": "4ca5f77f",
   "metadata": {},
   "outputs": [
    {
     "name": "stdout",
     "output_type": "stream",
     "text": [
      "44/44 [==============================] - 0s 510us/step - loss: 0.4399 - accuracy: 0.7953\n"
     ]
    },
    {
     "data": {
      "text/plain": [
       "[0.43987712264060974, 0.7953091859817505]"
      ]
     },
     "execution_count": 83,
     "metadata": {},
     "output_type": "execute_result"
    }
   ],
   "source": [
    "model.evaluate(X_test,y_test)"
   ]
  },
  {
   "cell_type": "code",
   "execution_count": 84,
   "id": "35d82a71",
   "metadata": {},
   "outputs": [
    {
     "name": "stdout",
     "output_type": "stream",
     "text": [
      "44/44 [==============================] - 0s 419us/step\n"
     ]
    },
    {
     "data": {
      "text/plain": [
       "array([[0.18376493],\n",
       "       [0.32048938],\n",
       "       [0.01482958],\n",
       "       [0.7364979 ],\n",
       "       [0.5306068 ]], dtype=float32)"
      ]
     },
     "execution_count": 84,
     "metadata": {},
     "output_type": "execute_result"
    }
   ],
   "source": [
    "prediction=model.predict(X_test)\n",
    "prediction[:5]"
   ]
  },
  {
   "cell_type": "code",
   "execution_count": 85,
   "id": "e7565897",
   "metadata": {},
   "outputs": [
    {
     "data": {
      "text/plain": [
       "2660    0\n",
       "744     0\n",
       "5579    1\n",
       "64      1\n",
       "3287    1\n",
       "Name: Churn, dtype: int64"
      ]
     },
     "execution_count": 85,
     "metadata": {},
     "output_type": "execute_result"
    }
   ],
   "source": [
    "y_test[:5]"
   ]
  },
  {
   "cell_type": "code",
   "execution_count": 86,
   "id": "8a465c51",
   "metadata": {},
   "outputs": [],
   "source": [
    "#Sigmoid gives output in range of 0-1 so create function to handle it\n",
    "\n",
    "y_pred=[]\n",
    "for pred in prediction:\n",
    "    if pred>0.5:\n",
    "        y_pred.append(1)\n",
    "    else:\n",
    "        y_pred.append(0)\n"
   ]
  },
  {
   "cell_type": "code",
   "execution_count": 87,
   "id": "7d702fb8",
   "metadata": {},
   "outputs": [
    {
     "data": {
      "text/plain": [
       "[0, 0, 0, 1, 1]"
      ]
     },
     "execution_count": 87,
     "metadata": {},
     "output_type": "execute_result"
    }
   ],
   "source": [
    "y_pred[:5]"
   ]
  },
  {
   "cell_type": "code",
   "execution_count": 89,
   "id": "2b57e644",
   "metadata": {},
   "outputs": [
    {
     "name": "stdout",
     "output_type": "stream",
     "text": [
      "              precision    recall  f1-score   support\n",
      "\n",
      "           0       0.84      0.88      0.86       999\n",
      "           1       0.67      0.59      0.62       408\n",
      "\n",
      "    accuracy                           0.80      1407\n",
      "   macro avg       0.75      0.73      0.74      1407\n",
      "weighted avg       0.79      0.80      0.79      1407\n",
      "\n"
     ]
    }
   ],
   "source": [
    "from sklearn.metrics import confusion_matrix, classification_report\n",
    "print(classification_report(y_test,y_pred))"
   ]
  },
  {
   "cell_type": "code",
   "execution_count": 92,
   "id": "909c6812",
   "metadata": {},
   "outputs": [
    {
     "data": {
      "image/png": "[encoded data removed]",
      "text/plain": [
       "<Figure size 1000x700 with 2 Axes>"
      ]
     },
     "metadata": {},
     "output_type": "display_data"
    }
   ],
   "source": [
    "import seaborn as sn\n",
    "cm=tf.math.confusion_matrix(labels=y_test,predictions=y_pred)\n",
    "\n",
    "plt.figure(figsize=(10,7))\n",
    "sn.heatmap(cm,annot=True,fmt='d')\n",
    "plt.xlabel('Predicted')\n",
    "plt.ylabel('truth')\n",
    "plt.show()"
   ]
  },
  {
   "cell_type": "markdown",
   "id": "e0e87573",
   "metadata": {},
   "source": [
    "Method 1:Performing Undersampling as Data is Imbalanced"
   ]
  },
  {
   "cell_type": "code",
   "execution_count": 95,
   "id": "ae06fe7e",
   "metadata": {},
   "outputs": [],
   "source": [
    "#class count\n",
    "count_class_0,count_class_1=df1.Churn.value_counts()\n",
    "\n",
    "#Divide by class\n",
    "df_class_0=df1[df1['Churn']==0]\n",
    "df_class_1=df1[df1['Churn']==1]"
   ]
  },
  {
   "cell_type": "code",
   "execution_count": 96,
   "id": "5df11f00",
   "metadata": {},
   "outputs": [
    {
     "data": {
      "text/plain": [
       "(5163, 1869)"
      ]
     },
     "execution_count": 96,
     "metadata": {},
     "output_type": "execute_result"
    }
   ],
   "source": [
    "count_class_0,count_class_1"
   ]
  },
  {
   "cell_type": "code",
   "execution_count": 98,
   "id": "507517f1",
   "metadata": {},
   "outputs": [],
   "source": [
    "#Take samples of class_0 as same as minority class class_1\n",
    "df_class_0_under=df_class_0.sample(count_class_1)"
   ]
  },
  {
   "cell_type": "code",
   "execution_count": 100,
   "id": "3748e459",
   "metadata": {},
   "outputs": [
    {
     "data": {
      "text/plain": [
       "(3738, 27)"
      ]
     },
     "execution_count": 100,
     "metadata": {},
     "output_type": "execute_result"
    }
   ],
   "source": [
    "#combine both dataframes\n",
    "df_test_under=pd.concat([df_class_0_under,df_class_1],axis=0)\n",
    "df_test_under.shape"
   ]
  },
  {
   "cell_type": "code",
   "execution_count": 102,
   "id": "f3214ac2",
   "metadata": {},
   "outputs": [
    {
     "name": "stdout",
     "output_type": "stream",
     "text": [
      "Random under-sampling\n",
      "0    1869\n",
      "1    1869\n",
      "Name: Churn, dtype: int64\n"
     ]
    }
   ],
   "source": [
    "print('Random under-sampling')\n",
    "print(df_test_under['Churn'].value_counts())"
   ]
  },
  {
   "cell_type": "code",
   "execution_count": 103,
   "id": "1a616976",
   "metadata": {},
   "outputs": [],
   "source": [
    "X=df_test_under.drop('Churn',axis='columns')\n",
    "y=df_test_under['Churn']"
   ]
  },
  {
   "cell_type": "code",
   "execution_count": 104,
   "id": "88c9c589",
   "metadata": {},
   "outputs": [],
   "source": [
    "from sklearn.model_selection import train_test_split\n",
    "X_train,X_test,y_train,y_test=train_test_split(X,y,test_size=0.2,random_state=5,stratify=y)"
   ]
  },
  {
   "cell_type": "code",
   "execution_count": 105,
   "id": "53d684f8",
   "metadata": {},
   "outputs": [
    {
     "data": {
      "text/plain": [
       "1    1495\n",
       "0    1495\n",
       "Name: Churn, dtype: int64"
      ]
     },
     "execution_count": 105,
     "metadata": {},
     "output_type": "execute_result"
    }
   ],
   "source": [
    "y_train.value_counts()"
   ]
  },
  {
   "cell_type": "code",
   "execution_count": 106,
   "id": "e6051628",
   "metadata": {},
   "outputs": [],
   "source": [
    "def ANN(X_train, y_train, X_test, y_test, loss, weights):\n",
    "    model = keras.Sequential([\n",
    "        keras.layers.Dense(26, input_dim=26, activation='relu'),\n",
    "        keras.layers.Dense(15, activation='relu'),\n",
    "        keras.layers.Dense(1, activation='sigmoid')\n",
    "    ])\n",
    "\n",
    "    model.compile(optimizer='adam', loss=loss, metrics=['accuracy'])\n",
    "    \n",
    "    if weights == -1:\n",
    "        model.fit(X_train, y_train, epochs=100)\n",
    "    else:\n",
    "        model.fit(X_train, y_train, epochs=100, class_weight = weights)\n",
    "    \n",
    "    print(model.evaluate(X_test, y_test))\n",
    "    \n",
    "    y_preds = model.predict(X_test)\n",
    "    y_preds = np.round(y_preds)\n",
    "    \n",
    "    print(\"Classification Report: \\n\", classification_report(y_test, y_preds))\n",
    "    \n",
    "    return y_preds"
   ]
  },
  {
   "cell_type": "code",
   "execution_count": 107,
   "id": "6b2222bd",
   "metadata": {},
   "outputs": [
    {
     "name": "stdout",
     "output_type": "stream",
     "text": [
      "Epoch 1/100\n",
      "94/94 [==============================] - 0s 683us/step - loss: 0.6206 - accuracy: 0.6411\n",
      "Epoch 2/100\n",
      "94/94 [==============================] - 0s 604us/step - loss: 0.5232 - accuracy: 0.7515\n",
      "Epoch 3/100\n",
      "94/94 [==============================] - 0s 581us/step - loss: 0.4993 - accuracy: 0.7605\n",
      "Epoch 4/100\n",
      "94/94 [==============================] - 0s 588us/step - loss: 0.4912 - accuracy: 0.7669\n",
      "Epoch 5/100\n",
      "94/94 [==============================] - 0s 578us/step - loss: 0.4849 - accuracy: 0.7689\n",
      "Epoch 6/100\n",
      "94/94 [==============================] - 0s 589us/step - loss: 0.4815 - accuracy: 0.7702\n",
      "Epoch 7/100\n",
      "94/94 [==============================] - 0s 589us/step - loss: 0.4786 - accuracy: 0.7719\n",
      "Epoch 8/100\n",
      "94/94 [==============================] - 0s 588us/step - loss: 0.4779 - accuracy: 0.7732\n",
      "Epoch 9/100\n",
      "94/94 [==============================] - 0s 587us/step - loss: 0.4761 - accuracy: 0.7732\n",
      "Epoch 10/100\n",
      "94/94 [==============================] - 0s 590us/step - loss: 0.4732 - accuracy: 0.7749\n",
      "Epoch 11/100\n",
      "94/94 [==============================] - 0s 582us/step - loss: 0.4712 - accuracy: 0.7769\n",
      "Epoch 12/100\n",
      "94/94 [==============================] - 0s 582us/step - loss: 0.4705 - accuracy: 0.7749\n",
      "Epoch 13/100\n",
      "94/94 [==============================] - 0s 618us/step - loss: 0.4685 - accuracy: 0.7773\n",
      "Epoch 14/100\n",
      "94/94 [==============================] - 0s 585us/step - loss: 0.4683 - accuracy: 0.7793\n",
      "Epoch 15/100\n",
      "94/94 [==============================] - 0s 588us/step - loss: 0.4650 - accuracy: 0.7806\n",
      "Epoch 16/100\n",
      "94/94 [==============================] - 0s 596us/step - loss: 0.4624 - accuracy: 0.7786\n",
      "Epoch 17/100\n",
      "94/94 [==============================] - 0s 624us/step - loss: 0.4621 - accuracy: 0.7829\n",
      "Epoch 18/100\n",
      "94/94 [==============================] - 0s 639us/step - loss: 0.4597 - accuracy: 0.7793\n",
      "Epoch 19/100\n",
      "94/94 [==============================] - 0s 604us/step - loss: 0.4584 - accuracy: 0.7809\n",
      "Epoch 20/100\n",
      "94/94 [==============================] - 0s 588us/step - loss: 0.4565 - accuracy: 0.7833\n",
      "Epoch 21/100\n",
      "94/94 [==============================] - 0s 586us/step - loss: 0.4559 - accuracy: 0.7803\n",
      "Epoch 22/100\n",
      "94/94 [==============================] - 0s 604us/step - loss: 0.4539 - accuracy: 0.7803\n",
      "Epoch 23/100\n",
      "94/94 [==============================] - 0s 586us/step - loss: 0.4519 - accuracy: 0.7803\n",
      "Epoch 24/100\n",
      "94/94 [==============================] - 0s 597us/step - loss: 0.4506 - accuracy: 0.7896\n",
      "Epoch 25/100\n",
      "94/94 [==============================] - 0s 606us/step - loss: 0.4516 - accuracy: 0.7843\n",
      "Epoch 26/100\n",
      "94/94 [==============================] - 0s 605us/step - loss: 0.4492 - accuracy: 0.7813\n",
      "Epoch 27/100\n",
      "94/94 [==============================] - 0s 603us/step - loss: 0.4464 - accuracy: 0.7853\n",
      "Epoch 28/100\n",
      "94/94 [==============================] - 0s 593us/step - loss: 0.4483 - accuracy: 0.7853\n",
      "Epoch 29/100\n",
      "94/94 [==============================] - 0s 599us/step - loss: 0.4451 - accuracy: 0.7923\n",
      "Epoch 30/100\n",
      "94/94 [==============================] - 0s 597us/step - loss: 0.4425 - accuracy: 0.7893\n",
      "Epoch 31/100\n",
      "94/94 [==============================] - 0s 777us/step - loss: 0.4413 - accuracy: 0.7906\n",
      "Epoch 32/100\n",
      "94/94 [==============================] - 0s 604us/step - loss: 0.4408 - accuracy: 0.7930\n",
      "Epoch 33/100\n",
      "94/94 [==============================] - 0s 612us/step - loss: 0.4393 - accuracy: 0.7903\n",
      "Epoch 34/100\n",
      "94/94 [==============================] - 0s 605us/step - loss: 0.4385 - accuracy: 0.7906\n",
      "Epoch 35/100\n",
      "94/94 [==============================] - 0s 608us/step - loss: 0.4372 - accuracy: 0.7916\n",
      "Epoch 36/100\n",
      "94/94 [==============================] - 0s 614us/step - loss: 0.4359 - accuracy: 0.7936\n",
      "Epoch 37/100\n",
      "94/94 [==============================] - 0s 595us/step - loss: 0.4327 - accuracy: 0.7973\n",
      "Epoch 38/100\n",
      "94/94 [==============================] - 0s 607us/step - loss: 0.4319 - accuracy: 0.7910\n",
      "Epoch 39/100\n",
      "94/94 [==============================] - 0s 596us/step - loss: 0.4317 - accuracy: 0.7967\n",
      "Epoch 40/100\n",
      "94/94 [==============================] - 0s 599us/step - loss: 0.4325 - accuracy: 0.7936\n",
      "Epoch 41/100\n",
      "94/94 [==============================] - 0s 599us/step - loss: 0.4303 - accuracy: 0.7980\n",
      "Epoch 42/100\n",
      "94/94 [==============================] - 0s 608us/step - loss: 0.4278 - accuracy: 0.7997\n",
      "Epoch 43/100\n",
      "94/94 [==============================] - 0s 608us/step - loss: 0.4289 - accuracy: 0.8000\n",
      "Epoch 44/100\n",
      "94/94 [==============================] - 0s 642us/step - loss: 0.4271 - accuracy: 0.7973\n",
      "Epoch 45/100\n",
      "94/94 [==============================] - 0s 630us/step - loss: 0.4283 - accuracy: 0.7983\n",
      "Epoch 46/100\n",
      "94/94 [==============================] - 0s 662us/step - loss: 0.4240 - accuracy: 0.7946\n",
      "Epoch 47/100\n",
      "94/94 [==============================] - 0s 646us/step - loss: 0.4224 - accuracy: 0.8000\n",
      "Epoch 48/100\n",
      "94/94 [==============================] - 0s 679us/step - loss: 0.4222 - accuracy: 0.7983\n",
      "Epoch 49/100\n",
      "94/94 [==============================] - 0s 717us/step - loss: 0.4206 - accuracy: 0.8017\n",
      "Epoch 50/100\n",
      "94/94 [==============================] - 0s 702us/step - loss: 0.4186 - accuracy: 0.8003\n",
      "Epoch 51/100\n",
      "94/94 [==============================] - 0s 685us/step - loss: 0.4185 - accuracy: 0.8020\n",
      "Epoch 52/100\n",
      "94/94 [==============================] - 0s 694us/step - loss: 0.4187 - accuracy: 0.8027\n",
      "Epoch 53/100\n",
      "94/94 [==============================] - 0s 685us/step - loss: 0.4147 - accuracy: 0.8023\n",
      "Epoch 54/100\n",
      "94/94 [==============================] - 0s 1ms/step - loss: 0.4132 - accuracy: 0.8020\n",
      "Epoch 55/100\n",
      "94/94 [==============================] - 0s 617us/step - loss: 0.4130 - accuracy: 0.8057\n",
      "Epoch 56/100\n",
      "94/94 [==============================] - 0s 596us/step - loss: 0.4119 - accuracy: 0.8050\n",
      "Epoch 57/100\n",
      "94/94 [==============================] - 0s 603us/step - loss: 0.4120 - accuracy: 0.8057\n",
      "Epoch 58/100\n",
      "94/94 [==============================] - 0s 608us/step - loss: 0.4123 - accuracy: 0.8030\n",
      "Epoch 59/100\n",
      "94/94 [==============================] - 0s 643us/step - loss: 0.4099 - accuracy: 0.8077\n",
      "Epoch 60/100\n",
      "94/94 [==============================] - 0s 770us/step - loss: 0.4098 - accuracy: 0.8080\n",
      "Epoch 61/100\n",
      "94/94 [==============================] - 0s 702us/step - loss: 0.4101 - accuracy: 0.8054\n",
      "Epoch 62/100\n",
      "94/94 [==============================] - 0s 643us/step - loss: 0.4073 - accuracy: 0.8050\n",
      "Epoch 63/100\n",
      "94/94 [==============================] - 0s 593us/step - loss: 0.4103 - accuracy: 0.8060\n",
      "Epoch 64/100\n",
      "94/94 [==============================] - 0s 617us/step - loss: 0.4066 - accuracy: 0.8050\n",
      "Epoch 65/100\n",
      "94/94 [==============================] - 0s 624us/step - loss: 0.4045 - accuracy: 0.8117\n",
      "Epoch 66/100\n",
      "94/94 [==============================] - 0s 635us/step - loss: 0.4060 - accuracy: 0.8130\n",
      "Epoch 67/100\n",
      "94/94 [==============================] - 0s 623us/step - loss: 0.4033 - accuracy: 0.8087\n",
      "Epoch 68/100\n",
      "94/94 [==============================] - 0s 600us/step - loss: 0.4035 - accuracy: 0.8077\n",
      "Epoch 69/100\n",
      "94/94 [==============================] - 0s 601us/step - loss: 0.4021 - accuracy: 0.8144\n",
      "Epoch 70/100\n",
      "94/94 [==============================] - 0s 664us/step - loss: 0.3998 - accuracy: 0.8151\n",
      "Epoch 71/100\n",
      "94/94 [==============================] - 0s 669us/step - loss: 0.4002 - accuracy: 0.8064\n",
      "Epoch 72/100\n",
      "94/94 [==============================] - 0s 636us/step - loss: 0.3975 - accuracy: 0.8144\n",
      "Epoch 73/100\n",
      "94/94 [==============================] - 0s 612us/step - loss: 0.4008 - accuracy: 0.8144\n",
      "Epoch 74/100\n",
      "94/94 [==============================] - 0s 652us/step - loss: 0.3961 - accuracy: 0.8137\n",
      "Epoch 75/100\n",
      "94/94 [==============================] - 0s 603us/step - loss: 0.3958 - accuracy: 0.8134\n",
      "Epoch 76/100\n",
      "94/94 [==============================] - 0s 594us/step - loss: 0.3962 - accuracy: 0.8120\n",
      "Epoch 77/100\n",
      "94/94 [==============================] - 0s 620us/step - loss: 0.3948 - accuracy: 0.8137\n",
      "Epoch 78/100\n",
      "94/94 [==============================] - 0s 628us/step - loss: 0.3939 - accuracy: 0.8127\n",
      "Epoch 79/100\n",
      "94/94 [==============================] - 0s 717us/step - loss: 0.3965 - accuracy: 0.8147\n",
      "Epoch 80/100\n",
      "94/94 [==============================] - 0s 716us/step - loss: 0.3910 - accuracy: 0.8120\n",
      "Epoch 81/100\n"
     ]
    },
    {
     "name": "stdout",
     "output_type": "stream",
     "text": [
      "94/94 [==============================] - 0s 669us/step - loss: 0.3930 - accuracy: 0.8124\n",
      "Epoch 82/100\n",
      "94/94 [==============================] - 0s 671us/step - loss: 0.3916 - accuracy: 0.8161\n",
      "Epoch 83/100\n",
      "94/94 [==============================] - 0s 641us/step - loss: 0.3893 - accuracy: 0.8137\n",
      "Epoch 84/100\n",
      "94/94 [==============================] - 0s 638us/step - loss: 0.3934 - accuracy: 0.8174\n",
      "Epoch 85/100\n",
      "94/94 [==============================] - 0s 649us/step - loss: 0.3894 - accuracy: 0.8187\n",
      "Epoch 86/100\n",
      "94/94 [==============================] - 0s 619us/step - loss: 0.3878 - accuracy: 0.8154\n",
      "Epoch 87/100\n",
      "94/94 [==============================] - 0s 625us/step - loss: 0.3885 - accuracy: 0.8191\n",
      "Epoch 88/100\n",
      "94/94 [==============================] - 0s 594us/step - loss: 0.3863 - accuracy: 0.8191\n",
      "Epoch 89/100\n",
      "94/94 [==============================] - 0s 699us/step - loss: 0.3875 - accuracy: 0.8147\n",
      "Epoch 90/100\n",
      "94/94 [==============================] - 0s 866us/step - loss: 0.3864 - accuracy: 0.8234\n",
      "Epoch 91/100\n",
      "94/94 [==============================] - 0s 648us/step - loss: 0.3838 - accuracy: 0.8194\n",
      "Epoch 92/100\n",
      "94/94 [==============================] - 0s 779us/step - loss: 0.3842 - accuracy: 0.8181\n",
      "Epoch 93/100\n",
      "94/94 [==============================] - 0s 634us/step - loss: 0.3823 - accuracy: 0.8177\n",
      "Epoch 94/100\n",
      "94/94 [==============================] - 0s 631us/step - loss: 0.3820 - accuracy: 0.8161\n",
      "Epoch 95/100\n",
      "94/94 [==============================] - 0s 637us/step - loss: 0.3833 - accuracy: 0.8184\n",
      "Epoch 96/100\n",
      "94/94 [==============================] - 0s 646us/step - loss: 0.3795 - accuracy: 0.8241\n",
      "Epoch 97/100\n",
      "94/94 [==============================] - 0s 659us/step - loss: 0.3801 - accuracy: 0.8211\n",
      "Epoch 98/100\n",
      "94/94 [==============================] - 0s 630us/step - loss: 0.3777 - accuracy: 0.8241\n",
      "Epoch 99/100\n",
      "94/94 [==============================] - 0s 607us/step - loss: 0.3788 - accuracy: 0.8187\n",
      "Epoch 100/100\n",
      "94/94 [==============================] - 0s 584us/step - loss: 0.3770 - accuracy: 0.8234\n",
      "24/24 [==============================] - 0s 571us/step - loss: 0.5490 - accuracy: 0.7567\n",
      "[0.5489758849143982, 0.7566844820976257]\n",
      "24/24 [==============================] - 0s 491us/step\n",
      "Classification Report: \n",
      "               precision    recall  f1-score   support\n",
      "\n",
      "           0       0.76      0.75      0.76       374\n",
      "           1       0.76      0.76      0.76       374\n",
      "\n",
      "    accuracy                           0.76       748\n",
      "   macro avg       0.76      0.76      0.76       748\n",
      "weighted avg       0.76      0.76      0.76       748\n",
      "\n"
     ]
    }
   ],
   "source": [
    "y_preds = ANN(X_train, y_train, X_test, y_test, 'binary_crossentropy', -1)"
   ]
  },
  {
   "cell_type": "markdown",
   "id": "4f14664f",
   "metadata": {},
   "source": [
    "We see above that Precision and Recall are impoved"
   ]
  },
  {
   "cell_type": "markdown",
   "id": "e3ad2074",
   "metadata": {},
   "source": [
    "Method2 :Performing Oversampling "
   ]
  },
  {
   "cell_type": "code",
   "execution_count": 109,
   "id": "03da4652",
   "metadata": {},
   "outputs": [
    {
     "data": {
      "text/plain": [
       "(5163, 1869)"
      ]
     },
     "execution_count": 109,
     "metadata": {},
     "output_type": "execute_result"
    }
   ],
   "source": [
    "count_class_0,count_class_1"
   ]
  },
  {
   "cell_type": "code",
   "execution_count": 110,
   "id": "0cb1a6b6",
   "metadata": {},
   "outputs": [],
   "source": [
    "df_class1_over=df_class_1.sample(count_class_0,replace=True)"
   ]
  },
  {
   "cell_type": "code",
   "execution_count": 111,
   "id": "a0dc62e0",
   "metadata": {},
   "outputs": [
    {
     "data": {
      "text/plain": [
       "(10326, 27)"
      ]
     },
     "execution_count": 111,
     "metadata": {},
     "output_type": "execute_result"
    }
   ],
   "source": [
    "df_test_over=pd.concat([df_class_0,df_class1_over],axis=0)\n",
    "df_test_over.shape"
   ]
  },
  {
   "cell_type": "code",
   "execution_count": 113,
   "id": "41846601",
   "metadata": {},
   "outputs": [
    {
     "name": "stdout",
     "output_type": "stream",
     "text": [
      "Random over-sampling\n",
      "0    5163\n",
      "1    5163\n",
      "Name: Churn, dtype: int64\n"
     ]
    }
   ],
   "source": [
    "print('Random over-sampling')\n",
    "print(df_test_over['Churn'].value_counts())"
   ]
  },
  {
   "cell_type": "code",
   "execution_count": 114,
   "id": "3b6bc24f",
   "metadata": {},
   "outputs": [],
   "source": [
    "X=df_test_over.drop('Churn',axis='columns')\n",
    "y=df_test_over['Churn']"
   ]
  },
  {
   "cell_type": "code",
   "execution_count": 115,
   "id": "a05f86b8",
   "metadata": {},
   "outputs": [],
   "source": [
    "from sklearn.model_selection import train_test_split\n",
    "X_train,X_test,y_train,y_test=train_test_split(X,y,test_size=0.2,random_state=5,stratify=y)"
   ]
  },
  {
   "cell_type": "code",
   "execution_count": 116,
   "id": "5492c4b6",
   "metadata": {},
   "outputs": [
    {
     "data": {
      "text/plain": [
       "0    4130\n",
       "1    4130\n",
       "Name: Churn, dtype: int64"
      ]
     },
     "execution_count": 116,
     "metadata": {},
     "output_type": "execute_result"
    }
   ],
   "source": [
    "y_train.value_counts()"
   ]
  },
  {
   "cell_type": "code",
   "execution_count": 117,
   "id": "93ead56d",
   "metadata": {},
   "outputs": [
    {
     "name": "stdout",
     "output_type": "stream",
     "text": [
      "Epoch 1/100\n",
      "259/259 [==============================] - 0s 630us/step - loss: 0.5815 - accuracy: 0.6717\n",
      "Epoch 2/100\n",
      "259/259 [==============================] - 0s 588us/step - loss: 0.4898 - accuracy: 0.7611\n",
      "Epoch 3/100\n",
      "259/259 [==============================] - 0s 578us/step - loss: 0.4812 - accuracy: 0.7643\n",
      "Epoch 4/100\n",
      "259/259 [==============================] - 0s 583us/step - loss: 0.4771 - accuracy: 0.7662\n",
      "Epoch 5/100\n",
      "259/259 [==============================] - 0s 622us/step - loss: 0.4730 - accuracy: 0.7699\n",
      "Epoch 6/100\n",
      "259/259 [==============================] - 0s 579us/step - loss: 0.4702 - accuracy: 0.7702\n",
      "Epoch 7/100\n",
      "259/259 [==============================] - 0s 594us/step - loss: 0.4681 - accuracy: 0.7711\n",
      "Epoch 8/100\n",
      "259/259 [==============================] - 0s 629us/step - loss: 0.4655 - accuracy: 0.7731\n",
      "Epoch 9/100\n",
      "259/259 [==============================] - 0s 600us/step - loss: 0.4618 - accuracy: 0.7751\n",
      "Epoch 10/100\n",
      "259/259 [==============================] - 0s 582us/step - loss: 0.4588 - accuracy: 0.7754\n",
      "Epoch 11/100\n",
      "259/259 [==============================] - 0s 584us/step - loss: 0.4566 - accuracy: 0.7770\n",
      "Epoch 12/100\n",
      "259/259 [==============================] - 0s 583us/step - loss: 0.4548 - accuracy: 0.7771\n",
      "Epoch 13/100\n",
      "259/259 [==============================] - 0s 591us/step - loss: 0.4515 - accuracy: 0.7791\n",
      "Epoch 14/100\n",
      "259/259 [==============================] - 0s 583us/step - loss: 0.4502 - accuracy: 0.7821\n",
      "Epoch 15/100\n",
      "259/259 [==============================] - 0s 588us/step - loss: 0.4475 - accuracy: 0.7828\n",
      "Epoch 16/100\n",
      "259/259 [==============================] - 0s 574us/step - loss: 0.4452 - accuracy: 0.7850\n",
      "Epoch 17/100\n",
      "259/259 [==============================] - 0s 593us/step - loss: 0.4440 - accuracy: 0.7854\n",
      "Epoch 18/100\n",
      "259/259 [==============================] - 0s 577us/step - loss: 0.4426 - accuracy: 0.7845\n",
      "Epoch 19/100\n",
      "259/259 [==============================] - 0s 572us/step - loss: 0.4402 - accuracy: 0.7874\n",
      "Epoch 20/100\n",
      "259/259 [==============================] - 0s 595us/step - loss: 0.4376 - accuracy: 0.7892\n",
      "Epoch 21/100\n",
      "259/259 [==============================] - 0s 597us/step - loss: 0.4361 - accuracy: 0.7879\n",
      "Epoch 22/100\n",
      "259/259 [==============================] - 0s 582us/step - loss: 0.4364 - accuracy: 0.7896\n",
      "Epoch 23/100\n",
      "259/259 [==============================] - 0s 590us/step - loss: 0.4340 - accuracy: 0.7908\n",
      "Epoch 24/100\n",
      "259/259 [==============================] - 0s 577us/step - loss: 0.4317 - accuracy: 0.7943\n",
      "Epoch 25/100\n",
      "259/259 [==============================] - 0s 583us/step - loss: 0.4309 - accuracy: 0.7937\n",
      "Epoch 26/100\n",
      "259/259 [==============================] - 0s 574us/step - loss: 0.4293 - accuracy: 0.7941\n",
      "Epoch 27/100\n",
      "259/259 [==============================] - 0s 578us/step - loss: 0.4279 - accuracy: 0.7971\n",
      "Epoch 28/100\n",
      "259/259 [==============================] - 0s 580us/step - loss: 0.4275 - accuracy: 0.7981\n",
      "Epoch 29/100\n",
      "259/259 [==============================] - 0s 589us/step - loss: 0.4251 - accuracy: 0.7952\n",
      "Epoch 30/100\n",
      "259/259 [==============================] - 0s 583us/step - loss: 0.4248 - accuracy: 0.7971\n",
      "Epoch 31/100\n",
      "259/259 [==============================] - 0s 590us/step - loss: 0.4227 - accuracy: 0.8001\n",
      "Epoch 32/100\n",
      "259/259 [==============================] - 0s 579us/step - loss: 0.4213 - accuracy: 0.8019\n",
      "Epoch 33/100\n",
      "259/259 [==============================] - 0s 599us/step - loss: 0.4208 - accuracy: 0.8004\n",
      "Epoch 34/100\n",
      "259/259 [==============================] - 0s 604us/step - loss: 0.4179 - accuracy: 0.8041\n",
      "Epoch 35/100\n",
      "259/259 [==============================] - 0s 589us/step - loss: 0.4178 - accuracy: 0.8000\n",
      "Epoch 36/100\n",
      "259/259 [==============================] - 0s 626us/step - loss: 0.4173 - accuracy: 0.8052\n",
      "Epoch 37/100\n",
      "259/259 [==============================] - 0s 591us/step - loss: 0.4161 - accuracy: 0.8034\n",
      "Epoch 38/100\n",
      "259/259 [==============================] - 0s 580us/step - loss: 0.4164 - accuracy: 0.8035\n",
      "Epoch 39/100\n",
      "259/259 [==============================] - 0s 578us/step - loss: 0.4135 - accuracy: 0.8025\n",
      "Epoch 40/100\n",
      "259/259 [==============================] - 0s 582us/step - loss: 0.4136 - accuracy: 0.8039\n",
      "Epoch 41/100\n",
      "259/259 [==============================] - 0s 591us/step - loss: 0.4106 - accuracy: 0.8046\n",
      "Epoch 42/100\n",
      "259/259 [==============================] - 0s 580us/step - loss: 0.4096 - accuracy: 0.8069\n",
      "Epoch 43/100\n",
      "259/259 [==============================] - 0s 659us/step - loss: 0.4094 - accuracy: 0.8056\n",
      "Epoch 44/100\n",
      "259/259 [==============================] - 0s 608us/step - loss: 0.4089 - accuracy: 0.8081\n",
      "Epoch 45/100\n",
      "259/259 [==============================] - 0s 604us/step - loss: 0.4078 - accuracy: 0.8070\n",
      "Epoch 46/100\n",
      "259/259 [==============================] - 0s 608us/step - loss: 0.4058 - accuracy: 0.8099\n",
      "Epoch 47/100\n",
      "259/259 [==============================] - 0s 606us/step - loss: 0.4051 - accuracy: 0.8092\n",
      "Epoch 48/100\n",
      "259/259 [==============================] - 0s 815us/step - loss: 0.4056 - accuracy: 0.8080\n",
      "Epoch 49/100\n",
      "259/259 [==============================] - 0s 623us/step - loss: 0.4041 - accuracy: 0.8098\n",
      "Epoch 50/100\n",
      "259/259 [==============================] - 0s 601us/step - loss: 0.4037 - accuracy: 0.8117\n",
      "Epoch 51/100\n",
      "259/259 [==============================] - 0s 583us/step - loss: 0.4012 - accuracy: 0.8120\n",
      "Epoch 52/100\n",
      "259/259 [==============================] - 0s 595us/step - loss: 0.4034 - accuracy: 0.8143\n",
      "Epoch 53/100\n",
      "259/259 [==============================] - 0s 600us/step - loss: 0.4021 - accuracy: 0.8131\n",
      "Epoch 54/100\n",
      "259/259 [==============================] - 0s 637us/step - loss: 0.4009 - accuracy: 0.8123\n",
      "Epoch 55/100\n",
      "259/259 [==============================] - 0s 658us/step - loss: 0.3976 - accuracy: 0.8161\n",
      "Epoch 56/100\n",
      "259/259 [==============================] - 0s 738us/step - loss: 0.3978 - accuracy: 0.8103\n",
      "Epoch 57/100\n",
      "259/259 [==============================] - 0s 587us/step - loss: 0.3981 - accuracy: 0.8148\n",
      "Epoch 58/100\n",
      "259/259 [==============================] - 0s 596us/step - loss: 0.3958 - accuracy: 0.8153\n",
      "Epoch 59/100\n",
      "259/259 [==============================] - 0s 633us/step - loss: 0.3950 - accuracy: 0.8156\n",
      "Epoch 60/100\n",
      "259/259 [==============================] - 0s 581us/step - loss: 0.3948 - accuracy: 0.8150\n",
      "Epoch 61/100\n",
      "259/259 [==============================] - 0s 599us/step - loss: 0.3934 - accuracy: 0.8162\n",
      "Epoch 62/100\n",
      "259/259 [==============================] - 0s 588us/step - loss: 0.3931 - accuracy: 0.8155\n",
      "Epoch 63/100\n",
      "259/259 [==============================] - 0s 583us/step - loss: 0.3911 - accuracy: 0.8163\n",
      "Epoch 64/100\n",
      "259/259 [==============================] - 0s 592us/step - loss: 0.3918 - accuracy: 0.8179\n",
      "Epoch 65/100\n",
      "259/259 [==============================] - 0s 598us/step - loss: 0.3910 - accuracy: 0.8150\n",
      "Epoch 66/100\n",
      "259/259 [==============================] - 0s 598us/step - loss: 0.3899 - accuracy: 0.8171\n",
      "Epoch 67/100\n",
      "259/259 [==============================] - 0s 591us/step - loss: 0.3888 - accuracy: 0.8185\n",
      "Epoch 68/100\n",
      "259/259 [==============================] - 0s 594us/step - loss: 0.3891 - accuracy: 0.8200\n",
      "Epoch 69/100\n",
      "259/259 [==============================] - 0s 622us/step - loss: 0.3881 - accuracy: 0.8186\n",
      "Epoch 70/100\n",
      "259/259 [==============================] - 0s 674us/step - loss: 0.3861 - accuracy: 0.8213\n",
      "Epoch 71/100\n",
      "259/259 [==============================] - 0s 610us/step - loss: 0.3869 - accuracy: 0.8178\n",
      "Epoch 72/100\n",
      "259/259 [==============================] - 0s 607us/step - loss: 0.3851 - accuracy: 0.8195\n",
      "Epoch 73/100\n",
      "259/259 [==============================] - 0s 599us/step - loss: 0.3841 - accuracy: 0.8189\n",
      "Epoch 74/100\n",
      "259/259 [==============================] - 0s 598us/step - loss: 0.3841 - accuracy: 0.8219\n",
      "Epoch 75/100\n",
      "259/259 [==============================] - 0s 593us/step - loss: 0.3832 - accuracy: 0.8222\n",
      "Epoch 76/100\n",
      "259/259 [==============================] - 0s 601us/step - loss: 0.3817 - accuracy: 0.8231\n",
      "Epoch 77/100\n",
      "259/259 [==============================] - 0s 600us/step - loss: 0.3806 - accuracy: 0.8217\n",
      "Epoch 78/100\n",
      "259/259 [==============================] - 0s 588us/step - loss: 0.3816 - accuracy: 0.8236\n",
      "Epoch 79/100\n"
     ]
    },
    {
     "name": "stdout",
     "output_type": "stream",
     "text": [
      "259/259 [==============================] - 0s 595us/step - loss: 0.3804 - accuracy: 0.8246\n",
      "Epoch 80/100\n",
      "259/259 [==============================] - 0s 595us/step - loss: 0.3807 - accuracy: 0.8219\n",
      "Epoch 81/100\n",
      "259/259 [==============================] - 0s 572us/step - loss: 0.3796 - accuracy: 0.8228\n",
      "Epoch 82/100\n",
      "259/259 [==============================] - 0s 576us/step - loss: 0.3781 - accuracy: 0.8251\n",
      "Epoch 83/100\n",
      "259/259 [==============================] - 0s 574us/step - loss: 0.3771 - accuracy: 0.8262\n",
      "Epoch 84/100\n",
      "259/259 [==============================] - 0s 577us/step - loss: 0.3772 - accuracy: 0.8289\n",
      "Epoch 85/100\n",
      "259/259 [==============================] - 0s 575us/step - loss: 0.3750 - accuracy: 0.8253\n",
      "Epoch 86/100\n",
      "259/259 [==============================] - 0s 583us/step - loss: 0.3751 - accuracy: 0.8254\n",
      "Epoch 87/100\n",
      "259/259 [==============================] - 0s 590us/step - loss: 0.3740 - accuracy: 0.8248\n",
      "Epoch 88/100\n",
      "259/259 [==============================] - 0s 573us/step - loss: 0.3736 - accuracy: 0.8287\n",
      "Epoch 89/100\n",
      "259/259 [==============================] - 0s 581us/step - loss: 0.3748 - accuracy: 0.8262\n",
      "Epoch 90/100\n",
      "259/259 [==============================] - 0s 575us/step - loss: 0.3735 - accuracy: 0.8272\n",
      "Epoch 91/100\n",
      "259/259 [==============================] - 0s 597us/step - loss: 0.3736 - accuracy: 0.8282\n",
      "Epoch 92/100\n",
      "259/259 [==============================] - 0s 592us/step - loss: 0.3720 - accuracy: 0.8295\n",
      "Epoch 93/100\n",
      "259/259 [==============================] - 0s 575us/step - loss: 0.3707 - accuracy: 0.8298\n",
      "Epoch 94/100\n",
      "259/259 [==============================] - 0s 591us/step - loss: 0.3718 - accuracy: 0.8298\n",
      "Epoch 95/100\n",
      "259/259 [==============================] - 0s 572us/step - loss: 0.3690 - accuracy: 0.8303\n",
      "Epoch 96/100\n",
      "259/259 [==============================] - 0s 577us/step - loss: 0.3696 - accuracy: 0.8287\n",
      "Epoch 97/100\n",
      "259/259 [==============================] - 0s 584us/step - loss: 0.3689 - accuracy: 0.8293\n",
      "Epoch 98/100\n",
      "259/259 [==============================] - 0s 628us/step - loss: 0.3689 - accuracy: 0.8276\n",
      "Epoch 99/100\n",
      "259/259 [==============================] - 0s 619us/step - loss: 0.3667 - accuracy: 0.8338\n",
      "Epoch 100/100\n",
      "259/259 [==============================] - 0s 587us/step - loss: 0.3683 - accuracy: 0.8305\n",
      "65/65 [==============================] - 0s 568us/step - loss: 0.4658 - accuracy: 0.8020\n",
      "[0.4658266305923462, 0.8020328879356384]\n",
      "65/65 [==============================] - 0s 413us/step\n",
      "Classification Report: \n",
      "               precision    recall  f1-score   support\n",
      "\n",
      "           0       0.86      0.72      0.78      1033\n",
      "           1       0.76      0.89      0.82      1033\n",
      "\n",
      "    accuracy                           0.80      2066\n",
      "   macro avg       0.81      0.80      0.80      2066\n",
      "weighted avg       0.81      0.80      0.80      2066\n",
      "\n"
     ]
    }
   ],
   "source": [
    "y_preds = ANN(X_train, y_train, X_test, y_test, 'binary_crossentropy', -1)"
   ]
  },
  {
   "cell_type": "markdown",
   "id": "6efd1904",
   "metadata": {},
   "source": [
    "Method3: SMOTE"
   ]
  },
  {
   "cell_type": "code",
   "execution_count": 118,
   "id": "c4448e51",
   "metadata": {},
   "outputs": [],
   "source": [
    "#Take original dataframe\n",
    "X=df1.drop('Churn',axis='columns')\n",
    "y=df1['Churn']"
   ]
  },
  {
   "cell_type": "code",
   "execution_count": 119,
   "id": "dfd3e7ad",
   "metadata": {},
   "outputs": [
    {
     "name": "stdout",
     "output_type": "stream",
     "text": [
      "Collecting imbalanced-Learn\n",
      "  Downloading imbalanced_learn-0.10.1-py3-none-any.whl (226 kB)\n",
      "\u001b[2K     \u001b[90m━━━━━━━━━━━━━━━━━━━━━━━━━━━━━━━━━━━━━━━\u001b[0m \u001b[32m226.0/226.0 kB\u001b[0m \u001b[31m1.7 MB/s\u001b[0m eta \u001b[36m0:00:00\u001b[0m00:01\u001b[0m00:01\u001b[0m\n",
      "\u001b[?25hRequirement already satisfied: joblib>=1.1.1 in /Users/anubhoyar/opt/anaconda3/lib/python3.9/site-packages (from imbalanced-Learn) (1.2.0)\n",
      "Requirement already satisfied: threadpoolctl>=2.0.0 in /Users/anubhoyar/opt/anaconda3/lib/python3.9/site-packages (from imbalanced-Learn) (2.2.0)\n",
      "Requirement already satisfied: numpy>=1.17.3 in /Users/anubhoyar/opt/anaconda3/lib/python3.9/site-packages (from imbalanced-Learn) (1.20.3)\n",
      "Requirement already satisfied: scipy>=1.3.2 in /Users/anubhoyar/opt/anaconda3/lib/python3.9/site-packages (from imbalanced-Learn) (1.7.3)\n",
      "Requirement already satisfied: scikit-learn>=1.0.2 in /Users/anubhoyar/opt/anaconda3/lib/python3.9/site-packages (from imbalanced-Learn) (1.2.2)\n",
      "Installing collected packages: imbalanced-Learn\n",
      "Successfully installed imbalanced-Learn-0.10.1\n",
      "Note: you may need to restart the kernel to use updated packages.\n"
     ]
    }
   ],
   "source": [
    "#pip install imbalanced-Learn"
   ]
  },
  {
   "cell_type": "code",
   "execution_count": 123,
   "id": "058255c2",
   "metadata": {},
   "outputs": [
    {
     "data": {
      "text/plain": [
       "0    5163\n",
       "1    1869\n",
       "Name: Churn, dtype: int64"
      ]
     },
     "execution_count": 123,
     "metadata": {},
     "output_type": "execute_result"
    }
   ],
   "source": [
    "y.value_counts()"
   ]
  },
  {
   "cell_type": "code",
   "execution_count": 122,
   "id": "e40f7687",
   "metadata": {},
   "outputs": [
    {
     "data": {
      "text/plain": [
       "0    5163\n",
       "1    5163\n",
       "Name: Churn, dtype: int64"
      ]
     },
     "execution_count": 122,
     "metadata": {},
     "output_type": "execute_result"
    }
   ],
   "source": [
    "from imblearn.over_sampling import SMOTE\n",
    "smote=SMOTE(sampling_strategy='minority')\n",
    "X_sm,y_sm=smote.fit_resample(X,y)\n",
    "y_sm.value_counts()"
   ]
  },
  {
   "cell_type": "code",
   "execution_count": 124,
   "id": "b761105d",
   "metadata": {},
   "outputs": [],
   "source": [
    "from sklearn.model_selection import train_test_split\n",
    "X_train,X_test,y_train,y_test=train_test_split(X_sm,y_sm,test_size=0.2,random_state=15,stratify=y_sm)"
   ]
  },
  {
   "cell_type": "code",
   "execution_count": 125,
   "id": "151c5aed",
   "metadata": {},
   "outputs": [
    {
     "data": {
      "text/plain": [
       "1    4130\n",
       "0    4130\n",
       "Name: Churn, dtype: int64"
      ]
     },
     "execution_count": 125,
     "metadata": {},
     "output_type": "execute_result"
    }
   ],
   "source": [
    "y_train.value_counts()"
   ]
  },
  {
   "cell_type": "code",
   "execution_count": 126,
   "id": "e0ad8e30",
   "metadata": {},
   "outputs": [
    {
     "data": {
      "text/plain": [
       "1    1033\n",
       "0    1033\n",
       "Name: Churn, dtype: int64"
      ]
     },
     "execution_count": 126,
     "metadata": {},
     "output_type": "execute_result"
    }
   ],
   "source": [
    "y_test.value_counts()"
   ]
  },
  {
   "cell_type": "code",
   "execution_count": 127,
   "id": "58adc6b1",
   "metadata": {},
   "outputs": [
    {
     "name": "stdout",
     "output_type": "stream",
     "text": [
      "Epoch 1/100\n",
      "259/259 [==============================] - 0s 610us/step - loss: 0.5482 - accuracy: 0.7145\n",
      "Epoch 2/100\n",
      "259/259 [==============================] - 0s 584us/step - loss: 0.4770 - accuracy: 0.7712\n",
      "Epoch 3/100\n",
      "259/259 [==============================] - 0s 574us/step - loss: 0.4681 - accuracy: 0.7777\n",
      "Epoch 4/100\n",
      "259/259 [==============================] - 0s 574us/step - loss: 0.4601 - accuracy: 0.7823\n",
      "Epoch 5/100\n",
      "259/259 [==============================] - 0s 581us/step - loss: 0.4536 - accuracy: 0.7872\n",
      "Epoch 6/100\n",
      "259/259 [==============================] - 0s 602us/step - loss: 0.4491 - accuracy: 0.7864\n",
      "Epoch 7/100\n",
      "259/259 [==============================] - 0s 597us/step - loss: 0.4434 - accuracy: 0.7909\n",
      "Epoch 8/100\n",
      "259/259 [==============================] - 0s 574us/step - loss: 0.4385 - accuracy: 0.7935\n",
      "Epoch 9/100\n",
      "259/259 [==============================] - 0s 579us/step - loss: 0.4348 - accuracy: 0.7975\n",
      "Epoch 10/100\n",
      "259/259 [==============================] - 0s 577us/step - loss: 0.4309 - accuracy: 0.7965\n",
      "Epoch 11/100\n",
      "259/259 [==============================] - 0s 623us/step - loss: 0.4269 - accuracy: 0.8039\n",
      "Epoch 12/100\n",
      "259/259 [==============================] - 0s 582us/step - loss: 0.4228 - accuracy: 0.8013\n",
      "Epoch 13/100\n",
      "259/259 [==============================] - 0s 601us/step - loss: 0.4199 - accuracy: 0.8053\n",
      "Epoch 14/100\n",
      "259/259 [==============================] - 0s 573us/step - loss: 0.4176 - accuracy: 0.8019\n",
      "Epoch 15/100\n",
      "259/259 [==============================] - 0s 582us/step - loss: 0.4127 - accuracy: 0.8093\n",
      "Epoch 16/100\n",
      "259/259 [==============================] - 0s 589us/step - loss: 0.4113 - accuracy: 0.8067\n",
      "Epoch 17/100\n",
      "259/259 [==============================] - 0s 596us/step - loss: 0.4096 - accuracy: 0.8097\n",
      "Epoch 18/100\n",
      "259/259 [==============================] - 0s 588us/step - loss: 0.4070 - accuracy: 0.8107\n",
      "Epoch 19/100\n",
      "259/259 [==============================] - 0s 578us/step - loss: 0.4024 - accuracy: 0.8138\n",
      "Epoch 20/100\n",
      "259/259 [==============================] - 0s 636us/step - loss: 0.4012 - accuracy: 0.8149\n",
      "Epoch 21/100\n",
      "259/259 [==============================] - 0s 573us/step - loss: 0.3980 - accuracy: 0.8160\n",
      "Epoch 22/100\n",
      "259/259 [==============================] - 0s 1ms/step - loss: 0.3974 - accuracy: 0.8149\n",
      "Epoch 23/100\n",
      "259/259 [==============================] - 0s 647us/step - loss: 0.3944 - accuracy: 0.8203\n",
      "Epoch 24/100\n",
      "259/259 [==============================] - 0s 613us/step - loss: 0.3917 - accuracy: 0.8213\n",
      "Epoch 25/100\n",
      "259/259 [==============================] - 0s 696us/step - loss: 0.3891 - accuracy: 0.8192\n",
      "Epoch 26/100\n",
      "259/259 [==============================] - 0s 598us/step - loss: 0.3886 - accuracy: 0.8240\n",
      "Epoch 27/100\n",
      "259/259 [==============================] - 0s 599us/step - loss: 0.3857 - accuracy: 0.8281\n",
      "Epoch 28/100\n",
      "259/259 [==============================] - 0s 679us/step - loss: 0.3841 - accuracy: 0.8242\n",
      "Epoch 29/100\n",
      "259/259 [==============================] - 0s 583us/step - loss: 0.3842 - accuracy: 0.8219\n",
      "Epoch 30/100\n",
      "259/259 [==============================] - 0s 592us/step - loss: 0.3823 - accuracy: 0.8262\n",
      "Epoch 31/100\n",
      "259/259 [==============================] - 0s 601us/step - loss: 0.3808 - accuracy: 0.8268\n",
      "Epoch 32/100\n",
      "259/259 [==============================] - 0s 594us/step - loss: 0.3803 - accuracy: 0.8253\n",
      "Epoch 33/100\n",
      "259/259 [==============================] - 0s 614us/step - loss: 0.3783 - accuracy: 0.8287\n",
      "Epoch 34/100\n",
      "259/259 [==============================] - 0s 653us/step - loss: 0.3763 - accuracy: 0.8305\n",
      "Epoch 35/100\n",
      "259/259 [==============================] - 0s 654us/step - loss: 0.3740 - accuracy: 0.8322\n",
      "Epoch 36/100\n",
      "259/259 [==============================] - 0s 677us/step - loss: 0.3723 - accuracy: 0.8311\n",
      "Epoch 37/100\n",
      "259/259 [==============================] - 0s 620us/step - loss: 0.3709 - accuracy: 0.8293\n",
      "Epoch 38/100\n",
      "259/259 [==============================] - 0s 595us/step - loss: 0.3715 - accuracy: 0.8324\n",
      "Epoch 39/100\n",
      "259/259 [==============================] - 0s 609us/step - loss: 0.3692 - accuracy: 0.8318\n",
      "Epoch 40/100\n",
      "259/259 [==============================] - 0s 601us/step - loss: 0.3696 - accuracy: 0.8308\n",
      "Epoch 41/100\n",
      "259/259 [==============================] - 0s 583us/step - loss: 0.3674 - accuracy: 0.8345\n",
      "Epoch 42/100\n",
      "259/259 [==============================] - 0s 592us/step - loss: 0.3667 - accuracy: 0.8329\n",
      "Epoch 43/100\n",
      "259/259 [==============================] - 0s 575us/step - loss: 0.3662 - accuracy: 0.8312\n",
      "Epoch 44/100\n",
      "259/259 [==============================] - 0s 629us/step - loss: 0.3653 - accuracy: 0.8347\n",
      "Epoch 45/100\n",
      "259/259 [==============================] - 0s 590us/step - loss: 0.3658 - accuracy: 0.8354\n",
      "Epoch 46/100\n",
      "259/259 [==============================] - 0s 588us/step - loss: 0.3628 - accuracy: 0.8345\n",
      "Epoch 47/100\n",
      "259/259 [==============================] - 0s 612us/step - loss: 0.3621 - accuracy: 0.8379\n",
      "Epoch 48/100\n",
      "259/259 [==============================] - 0s 590us/step - loss: 0.3623 - accuracy: 0.8368\n",
      "Epoch 49/100\n",
      "259/259 [==============================] - 0s 583us/step - loss: 0.3592 - accuracy: 0.8374\n",
      "Epoch 50/100\n",
      "259/259 [==============================] - 0s 587us/step - loss: 0.3581 - accuracy: 0.8370\n",
      "Epoch 51/100\n",
      "259/259 [==============================] - 0s 598us/step - loss: 0.3568 - accuracy: 0.8421\n",
      "Epoch 52/100\n",
      "259/259 [==============================] - 0s 592us/step - loss: 0.3581 - accuracy: 0.8406\n",
      "Epoch 53/100\n",
      "259/259 [==============================] - 0s 579us/step - loss: 0.3576 - accuracy: 0.8408\n",
      "Epoch 54/100\n",
      "259/259 [==============================] - 0s 672us/step - loss: 0.3568 - accuracy: 0.8403\n",
      "Epoch 55/100\n",
      "259/259 [==============================] - 0s 586us/step - loss: 0.3542 - accuracy: 0.8400\n",
      "Epoch 56/100\n",
      "259/259 [==============================] - 0s 587us/step - loss: 0.3548 - accuracy: 0.8406\n",
      "Epoch 57/100\n",
      "259/259 [==============================] - 0s 586us/step - loss: 0.3538 - accuracy: 0.8449\n",
      "Epoch 58/100\n",
      "259/259 [==============================] - 0s 594us/step - loss: 0.3534 - accuracy: 0.8431\n",
      "Epoch 59/100\n",
      "259/259 [==============================] - 0s 586us/step - loss: 0.3521 - accuracy: 0.8419\n",
      "Epoch 60/100\n",
      "259/259 [==============================] - 0s 582us/step - loss: 0.3503 - accuracy: 0.8436\n",
      "Epoch 61/100\n",
      "259/259 [==============================] - 0s 593us/step - loss: 0.3505 - accuracy: 0.8425\n",
      "Epoch 62/100\n",
      "259/259 [==============================] - 0s 588us/step - loss: 0.3500 - accuracy: 0.8442\n",
      "Epoch 63/100\n",
      "259/259 [==============================] - 0s 582us/step - loss: 0.3525 - accuracy: 0.8433\n",
      "Epoch 64/100\n",
      "259/259 [==============================] - 0s 580us/step - loss: 0.3466 - accuracy: 0.8465\n",
      "Epoch 65/100\n",
      "259/259 [==============================] - 0s 584us/step - loss: 0.3487 - accuracy: 0.8443\n",
      "Epoch 66/100\n",
      "259/259 [==============================] - 0s 592us/step - loss: 0.3469 - accuracy: 0.8466\n",
      "Epoch 67/100\n",
      "259/259 [==============================] - 0s 575us/step - loss: 0.3459 - accuracy: 0.8466\n",
      "Epoch 68/100\n",
      "259/259 [==============================] - 0s 592us/step - loss: 0.3444 - accuracy: 0.8493\n",
      "Epoch 69/100\n",
      "259/259 [==============================] - 0s 588us/step - loss: 0.3455 - accuracy: 0.8482\n",
      "Epoch 70/100\n",
      "259/259 [==============================] - 0s 591us/step - loss: 0.3462 - accuracy: 0.8454\n",
      "Epoch 71/100\n",
      "259/259 [==============================] - 0s 588us/step - loss: 0.3448 - accuracy: 0.8458\n",
      "Epoch 72/100\n",
      "259/259 [==============================] - 0s 589us/step - loss: 0.3439 - accuracy: 0.8479\n",
      "Epoch 73/100\n",
      "259/259 [==============================] - 0s 590us/step - loss: 0.3419 - accuracy: 0.8524\n",
      "Epoch 74/100\n",
      "259/259 [==============================] - 0s 584us/step - loss: 0.3406 - accuracy: 0.8521\n",
      "Epoch 75/100\n",
      "259/259 [==============================] - 0s 593us/step - loss: 0.3449 - accuracy: 0.8485\n",
      "Epoch 76/100\n",
      "259/259 [==============================] - 0s 578us/step - loss: 0.3410 - accuracy: 0.8500\n",
      "Epoch 77/100\n",
      "259/259 [==============================] - 0s 593us/step - loss: 0.3400 - accuracy: 0.8510\n",
      "Epoch 78/100\n",
      "259/259 [==============================] - 0s 591us/step - loss: 0.3399 - accuracy: 0.8487\n",
      "Epoch 79/100\n"
     ]
    },
    {
     "name": "stdout",
     "output_type": "stream",
     "text": [
      "259/259 [==============================] - 0s 591us/step - loss: 0.3435 - accuracy: 0.8484\n",
      "Epoch 80/100\n",
      "259/259 [==============================] - 0s 576us/step - loss: 0.3406 - accuracy: 0.8494\n",
      "Epoch 81/100\n",
      "259/259 [==============================] - 0s 588us/step - loss: 0.3378 - accuracy: 0.8511\n",
      "Epoch 82/100\n",
      "259/259 [==============================] - 0s 582us/step - loss: 0.3377 - accuracy: 0.8510\n",
      "Epoch 83/100\n",
      "259/259 [==============================] - 0s 637us/step - loss: 0.3380 - accuracy: 0.8522\n",
      "Epoch 84/100\n",
      "259/259 [==============================] - 0s 568us/step - loss: 0.3342 - accuracy: 0.8505\n",
      "Epoch 85/100\n",
      "259/259 [==============================] - 0s 565us/step - loss: 0.3392 - accuracy: 0.8501\n",
      "Epoch 86/100\n",
      "259/259 [==============================] - 0s 568us/step - loss: 0.3350 - accuracy: 0.8541\n",
      "Epoch 87/100\n",
      "259/259 [==============================] - 0s 568us/step - loss: 0.3369 - accuracy: 0.8512\n",
      "Epoch 88/100\n",
      "259/259 [==============================] - 0s 567us/step - loss: 0.3375 - accuracy: 0.8506\n",
      "Epoch 89/100\n",
      "259/259 [==============================] - 0s 572us/step - loss: 0.3348 - accuracy: 0.8500\n",
      "Epoch 90/100\n",
      "259/259 [==============================] - 0s 569us/step - loss: 0.3352 - accuracy: 0.8524\n",
      "Epoch 91/100\n",
      "259/259 [==============================] - 0s 574us/step - loss: 0.3339 - accuracy: 0.8493\n",
      "Epoch 92/100\n",
      "259/259 [==============================] - 0s 574us/step - loss: 0.3341 - accuracy: 0.8515\n",
      "Epoch 93/100\n",
      "259/259 [==============================] - 0s 572us/step - loss: 0.3328 - accuracy: 0.8571\n",
      "Epoch 94/100\n",
      "259/259 [==============================] - 0s 575us/step - loss: 0.3325 - accuracy: 0.8551\n",
      "Epoch 95/100\n",
      "259/259 [==============================] - 0s 567us/step - loss: 0.3309 - accuracy: 0.8550\n",
      "Epoch 96/100\n",
      "259/259 [==============================] - 0s 572us/step - loss: 0.3328 - accuracy: 0.8548\n",
      "Epoch 97/100\n",
      "259/259 [==============================] - 0s 576us/step - loss: 0.3312 - accuracy: 0.8557\n",
      "Epoch 98/100\n",
      "259/259 [==============================] - 0s 572us/step - loss: 0.3304 - accuracy: 0.8525\n",
      "Epoch 99/100\n",
      "259/259 [==============================] - 0s 569us/step - loss: 0.3290 - accuracy: 0.8539\n",
      "Epoch 100/100\n",
      "259/259 [==============================] - 0s 577us/step - loss: 0.3306 - accuracy: 0.8542\n",
      "65/65 [==============================] - 0s 499us/step - loss: 0.4318 - accuracy: 0.8064\n",
      "[0.4318421185016632, 0.8063891530036926]\n",
      "65/65 [==============================] - 0s 407us/step\n",
      "Classification Report: \n",
      "               precision    recall  f1-score   support\n",
      "\n",
      "           0       0.83      0.76      0.80      1033\n",
      "           1       0.78      0.85      0.81      1033\n",
      "\n",
      "    accuracy                           0.81      2066\n",
      "   macro avg       0.81      0.81      0.81      2066\n",
      "weighted avg       0.81      0.81      0.81      2066\n",
      "\n"
     ]
    }
   ],
   "source": [
    "y_preds = ANN(X_train, y_train, X_test, y_test, 'binary_crossentropy', -1)"
   ]
  },
  {
   "cell_type": "markdown",
   "id": "ae7a4ebc",
   "metadata": {},
   "source": [
    "Method4: Ensemble with undersampling"
   ]
  },
  {
   "cell_type": "code",
   "execution_count": 128,
   "id": "71047b5f",
   "metadata": {},
   "outputs": [],
   "source": [
    "#Take original dataframe\n",
    "X=df1.drop('Churn',axis='columns')\n",
    "y=df1['Churn']"
   ]
  },
  {
   "cell_type": "code",
   "execution_count": 129,
   "id": "9a5273a1",
   "metadata": {},
   "outputs": [],
   "source": [
    "from sklearn.model_selection import train_test_split\n",
    "X_train,X_test,y_train,y_test=train_test_split(X,y,test_size=0.2,random_state=5,stratify=y)"
   ]
  },
  {
   "cell_type": "code",
   "execution_count": 130,
   "id": "f3c68533",
   "metadata": {},
   "outputs": [
    {
     "data": {
      "text/plain": [
       "0    4130\n",
       "1    1495\n",
       "Name: Churn, dtype: int64"
      ]
     },
     "execution_count": 130,
     "metadata": {},
     "output_type": "execute_result"
    }
   ],
   "source": [
    "y_train.value_counts()"
   ]
  },
  {
   "cell_type": "code",
   "execution_count": 132,
   "id": "6ef429c4",
   "metadata": {},
   "outputs": [],
   "source": [
    "df2=X_train.copy()\n",
    "df2['Churn']=y_train"
   ]
  },
  {
   "cell_type": "code",
   "execution_count": 134,
   "id": "dd00c6ae",
   "metadata": {},
   "outputs": [],
   "source": [
    "df2_class0=df2[df2.Churn==0]\n",
    "df2_class1=df2[df2.Churn==1]"
   ]
  },
  {
   "cell_type": "code",
   "execution_count": 135,
   "id": "5a7a283b",
   "metadata": {},
   "outputs": [
    {
     "data": {
      "text/plain": [
       "((4130, 27), (1495, 27))"
      ]
     },
     "execution_count": 135,
     "metadata": {},
     "output_type": "execute_result"
    }
   ],
   "source": [
    "df2_class0.shape,df2_class1.shape"
   ]
  },
  {
   "cell_type": "code",
   "execution_count": 136,
   "id": "c8e28037",
   "metadata": {},
   "outputs": [],
   "source": [
    "#Major class is class0 so divide it in batch of 1495\n",
    "def get_train_batch(df_majority,df_minority,start,end):\n",
    "    df_train=pd.concat([df_majority[start:end],df_minority],axis=0)\n",
    "    \n",
    "    X_train=df_train.drop('Churn',axis='columns')\n",
    "    y_train=df_train.Churn\n",
    "    \n",
    "    return X_train,y_train\n"
   ]
  },
  {
   "cell_type": "code",
   "execution_count": 137,
   "id": "cdcf523b",
   "metadata": {},
   "outputs": [
    {
     "data": {
      "text/plain": [
       "(2990, 26)"
      ]
     },
     "execution_count": 137,
     "metadata": {},
     "output_type": "execute_result"
    }
   ],
   "source": [
    "X_train,y_train=get_train_batch(df2_class0,df2_class1,0,1495)\n",
    "X_train.shape"
   ]
  },
  {
   "cell_type": "code",
   "execution_count": 139,
   "id": "4fadad5a",
   "metadata": {},
   "outputs": [
    {
     "name": "stdout",
     "output_type": "stream",
     "text": [
      "Epoch 1/100\n",
      "94/94 [==============================] - 0s 672us/step - loss: 0.6239 - accuracy: 0.6645\n",
      "Epoch 2/100\n",
      "94/94 [==============================] - 0s 588us/step - loss: 0.5314 - accuracy: 0.7441\n",
      "Epoch 3/100\n",
      "94/94 [==============================] - 0s 619us/step - loss: 0.5140 - accuracy: 0.7508\n",
      "Epoch 4/100\n",
      "94/94 [==============================] - 0s 594us/step - loss: 0.5068 - accuracy: 0.7575\n",
      "Epoch 5/100\n",
      "94/94 [==============================] - 0s 601us/step - loss: 0.5020 - accuracy: 0.7535\n",
      "Epoch 6/100\n",
      "94/94 [==============================] - 0s 602us/step - loss: 0.4999 - accuracy: 0.7622\n",
      "Epoch 7/100\n",
      "94/94 [==============================] - 0s 630us/step - loss: 0.4953 - accuracy: 0.7592\n",
      "Epoch 8/100\n",
      "94/94 [==============================] - 0s 642us/step - loss: 0.4940 - accuracy: 0.7595\n",
      "Epoch 9/100\n",
      "94/94 [==============================] - 0s 637us/step - loss: 0.4924 - accuracy: 0.7602\n",
      "Epoch 10/100\n",
      "94/94 [==============================] - 0s 650us/step - loss: 0.4897 - accuracy: 0.7589\n",
      "Epoch 11/100\n",
      "94/94 [==============================] - 0s 601us/step - loss: 0.4879 - accuracy: 0.7635\n",
      "Epoch 12/100\n",
      "94/94 [==============================] - 0s 606us/step - loss: 0.4860 - accuracy: 0.7642\n",
      "Epoch 13/100\n",
      "94/94 [==============================] - 0s 636us/step - loss: 0.4842 - accuracy: 0.7656\n",
      "Epoch 14/100\n",
      "94/94 [==============================] - 0s 606us/step - loss: 0.4821 - accuracy: 0.7659\n",
      "Epoch 15/100\n",
      "94/94 [==============================] - 0s 623us/step - loss: 0.4811 - accuracy: 0.7649\n",
      "Epoch 16/100\n",
      "94/94 [==============================] - 0s 642us/step - loss: 0.4784 - accuracy: 0.7659\n",
      "Epoch 17/100\n",
      "94/94 [==============================] - 0s 672us/step - loss: 0.4778 - accuracy: 0.7696\n",
      "Epoch 18/100\n",
      "94/94 [==============================] - 0s 614us/step - loss: 0.4754 - accuracy: 0.7719\n",
      "Epoch 19/100\n",
      "94/94 [==============================] - 0s 594us/step - loss: 0.4744 - accuracy: 0.7682\n",
      "Epoch 20/100\n",
      "94/94 [==============================] - 0s 776us/step - loss: 0.4736 - accuracy: 0.7699\n",
      "Epoch 21/100\n",
      "94/94 [==============================] - 0s 646us/step - loss: 0.4713 - accuracy: 0.7779\n",
      "Epoch 22/100\n",
      "94/94 [==============================] - 0s 621us/step - loss: 0.4699 - accuracy: 0.7732\n",
      "Epoch 23/100\n",
      "94/94 [==============================] - 0s 603us/step - loss: 0.4688 - accuracy: 0.7786\n",
      "Epoch 24/100\n",
      "94/94 [==============================] - 0s 594us/step - loss: 0.4681 - accuracy: 0.7736\n",
      "Epoch 25/100\n",
      "94/94 [==============================] - 0s 607us/step - loss: 0.4668 - accuracy: 0.7773\n",
      "Epoch 26/100\n",
      "94/94 [==============================] - 0s 599us/step - loss: 0.4638 - accuracy: 0.7779\n",
      "Epoch 27/100\n",
      "94/94 [==============================] - 0s 593us/step - loss: 0.4629 - accuracy: 0.7786\n",
      "Epoch 28/100\n",
      "94/94 [==============================] - 0s 621us/step - loss: 0.4617 - accuracy: 0.7823\n",
      "Epoch 29/100\n",
      "94/94 [==============================] - 0s 607us/step - loss: 0.4604 - accuracy: 0.7826\n",
      "Epoch 30/100\n",
      "94/94 [==============================] - 0s 615us/step - loss: 0.4605 - accuracy: 0.7793\n",
      "Epoch 31/100\n",
      "94/94 [==============================] - 0s 609us/step - loss: 0.4573 - accuracy: 0.7846\n",
      "Epoch 32/100\n",
      "94/94 [==============================] - 0s 599us/step - loss: 0.4574 - accuracy: 0.7796\n",
      "Epoch 33/100\n",
      "94/94 [==============================] - 0s 601us/step - loss: 0.4574 - accuracy: 0.7813\n",
      "Epoch 34/100\n",
      "94/94 [==============================] - 0s 621us/step - loss: 0.4545 - accuracy: 0.7836\n",
      "Epoch 35/100\n",
      "94/94 [==============================] - 0s 621us/step - loss: 0.4537 - accuracy: 0.7839\n",
      "Epoch 36/100\n",
      "94/94 [==============================] - 0s 627us/step - loss: 0.4530 - accuracy: 0.7809\n",
      "Epoch 37/100\n",
      "94/94 [==============================] - 0s 594us/step - loss: 0.4509 - accuracy: 0.7833\n",
      "Epoch 38/100\n",
      "94/94 [==============================] - 0s 598us/step - loss: 0.4509 - accuracy: 0.7886\n",
      "Epoch 39/100\n",
      "94/94 [==============================] - 0s 591us/step - loss: 0.4511 - accuracy: 0.7823\n",
      "Epoch 40/100\n",
      "94/94 [==============================] - 0s 604us/step - loss: 0.4490 - accuracy: 0.7853\n",
      "Epoch 41/100\n",
      "94/94 [==============================] - 0s 591us/step - loss: 0.4466 - accuracy: 0.7900\n",
      "Epoch 42/100\n",
      "94/94 [==============================] - 0s 604us/step - loss: 0.4459 - accuracy: 0.7883\n",
      "Epoch 43/100\n",
      "94/94 [==============================] - 0s 588us/step - loss: 0.4453 - accuracy: 0.7863\n",
      "Epoch 44/100\n",
      "94/94 [==============================] - 0s 597us/step - loss: 0.4418 - accuracy: 0.7923\n",
      "Epoch 45/100\n",
      "94/94 [==============================] - 0s 589us/step - loss: 0.4421 - accuracy: 0.7913\n",
      "Epoch 46/100\n",
      "94/94 [==============================] - 0s 588us/step - loss: 0.4392 - accuracy: 0.7903\n",
      "Epoch 47/100\n",
      "94/94 [==============================] - 0s 596us/step - loss: 0.4397 - accuracy: 0.7920\n",
      "Epoch 48/100\n",
      "94/94 [==============================] - 0s 607us/step - loss: 0.4395 - accuracy: 0.7933\n",
      "Epoch 49/100\n",
      "94/94 [==============================] - 0s 594us/step - loss: 0.4375 - accuracy: 0.7910\n",
      "Epoch 50/100\n",
      "94/94 [==============================] - 0s 603us/step - loss: 0.4360 - accuracy: 0.7953\n",
      "Epoch 51/100\n",
      "94/94 [==============================] - 0s 612us/step - loss: 0.4355 - accuracy: 0.7963\n",
      "Epoch 52/100\n",
      "94/94 [==============================] - 0s 603us/step - loss: 0.4356 - accuracy: 0.7953\n",
      "Epoch 53/100\n",
      "94/94 [==============================] - 0s 609us/step - loss: 0.4332 - accuracy: 0.7980\n",
      "Epoch 54/100\n",
      "94/94 [==============================] - 0s 594us/step - loss: 0.4327 - accuracy: 0.7990\n",
      "Epoch 55/100\n",
      "94/94 [==============================] - 0s 601us/step - loss: 0.4318 - accuracy: 0.7990\n",
      "Epoch 56/100\n",
      "94/94 [==============================] - 0s 617us/step - loss: 0.4324 - accuracy: 0.7990\n",
      "Epoch 57/100\n",
      "94/94 [==============================] - 0s 617us/step - loss: 0.4280 - accuracy: 0.8033\n",
      "Epoch 58/100\n",
      "94/94 [==============================] - 0s 604us/step - loss: 0.4295 - accuracy: 0.8010\n",
      "Epoch 59/100\n",
      "94/94 [==============================] - 0s 614us/step - loss: 0.4278 - accuracy: 0.8003\n",
      "Epoch 60/100\n",
      "94/94 [==============================] - 0s 597us/step - loss: 0.4255 - accuracy: 0.8010\n",
      "Epoch 61/100\n",
      "94/94 [==============================] - 0s 609us/step - loss: 0.4262 - accuracy: 0.8050\n",
      "Epoch 62/100\n",
      "94/94 [==============================] - 0s 600us/step - loss: 0.4248 - accuracy: 0.8040\n",
      "Epoch 63/100\n",
      "94/94 [==============================] - 0s 600us/step - loss: 0.4230 - accuracy: 0.8037\n",
      "Epoch 64/100\n",
      "94/94 [==============================] - 0s 597us/step - loss: 0.4225 - accuracy: 0.8060\n",
      "Epoch 65/100\n",
      "94/94 [==============================] - 0s 596us/step - loss: 0.4223 - accuracy: 0.8080\n",
      "Epoch 66/100\n",
      "94/94 [==============================] - 0s 597us/step - loss: 0.4210 - accuracy: 0.8084\n",
      "Epoch 67/100\n",
      "94/94 [==============================] - 0s 587us/step - loss: 0.4201 - accuracy: 0.8030\n",
      "Epoch 68/100\n",
      "94/94 [==============================] - 0s 595us/step - loss: 0.4185 - accuracy: 0.8077\n",
      "Epoch 69/100\n",
      "94/94 [==============================] - 0s 585us/step - loss: 0.4186 - accuracy: 0.8067\n",
      "Epoch 70/100\n",
      "94/94 [==============================] - 0s 587us/step - loss: 0.4172 - accuracy: 0.8114\n",
      "Epoch 71/100\n",
      "94/94 [==============================] - 0s 602us/step - loss: 0.4169 - accuracy: 0.8040\n",
      "Epoch 72/100\n",
      "94/94 [==============================] - 0s 587us/step - loss: 0.4180 - accuracy: 0.8067\n",
      "Epoch 73/100\n",
      "94/94 [==============================] - 0s 596us/step - loss: 0.4156 - accuracy: 0.8110\n",
      "Epoch 74/100\n",
      "94/94 [==============================] - 0s 587us/step - loss: 0.4142 - accuracy: 0.8114\n",
      "Epoch 75/100\n",
      "94/94 [==============================] - 0s 588us/step - loss: 0.4128 - accuracy: 0.8104\n",
      "Epoch 76/100\n",
      "94/94 [==============================] - 0s 595us/step - loss: 0.4143 - accuracy: 0.8100\n",
      "Epoch 77/100\n",
      "94/94 [==============================] - 0s 772us/step - loss: 0.4123 - accuracy: 0.8104\n",
      "Epoch 78/100\n",
      "94/94 [==============================] - 0s 614us/step - loss: 0.4144 - accuracy: 0.8127\n",
      "Epoch 79/100\n",
      "94/94 [==============================] - 0s 595us/step - loss: 0.4116 - accuracy: 0.8117\n",
      "Epoch 80/100\n",
      "94/94 [==============================] - 0s 597us/step - loss: 0.4104 - accuracy: 0.8074\n",
      "Epoch 81/100\n"
     ]
    },
    {
     "name": "stdout",
     "output_type": "stream",
     "text": [
      "94/94 [==============================] - 0s 608us/step - loss: 0.4083 - accuracy: 0.8107\n",
      "Epoch 82/100\n",
      "94/94 [==============================] - 0s 594us/step - loss: 0.4092 - accuracy: 0.8117\n",
      "Epoch 83/100\n",
      "94/94 [==============================] - 0s 577us/step - loss: 0.4081 - accuracy: 0.8147\n",
      "Epoch 84/100\n",
      "94/94 [==============================] - 0s 579us/step - loss: 0.4087 - accuracy: 0.8110\n",
      "Epoch 85/100\n",
      "94/94 [==============================] - 0s 576us/step - loss: 0.4062 - accuracy: 0.8104\n",
      "Epoch 86/100\n",
      "94/94 [==============================] - 0s 576us/step - loss: 0.4064 - accuracy: 0.8174\n",
      "Epoch 87/100\n",
      "94/94 [==============================] - 0s 577us/step - loss: 0.4040 - accuracy: 0.8171\n",
      "Epoch 88/100\n",
      "94/94 [==============================] - 0s 578us/step - loss: 0.4050 - accuracy: 0.8147\n",
      "Epoch 89/100\n",
      "94/94 [==============================] - 0s 582us/step - loss: 0.4032 - accuracy: 0.8154\n",
      "Epoch 90/100\n",
      "94/94 [==============================] - 0s 575us/step - loss: 0.4046 - accuracy: 0.8124\n",
      "Epoch 91/100\n",
      "94/94 [==============================] - 0s 581us/step - loss: 0.4017 - accuracy: 0.8161\n",
      "Epoch 92/100\n",
      "94/94 [==============================] - 0s 572us/step - loss: 0.4013 - accuracy: 0.8217\n",
      "Epoch 93/100\n",
      "94/94 [==============================] - 0s 570us/step - loss: 0.4006 - accuracy: 0.8171\n",
      "Epoch 94/100\n",
      "94/94 [==============================] - 0s 580us/step - loss: 0.4009 - accuracy: 0.8167\n",
      "Epoch 95/100\n",
      "94/94 [==============================] - 0s 576us/step - loss: 0.3990 - accuracy: 0.8157\n",
      "Epoch 96/100\n",
      "94/94 [==============================] - 0s 577us/step - loss: 0.3996 - accuracy: 0.8164\n",
      "Epoch 97/100\n",
      "94/94 [==============================] - 0s 578us/step - loss: 0.3985 - accuracy: 0.8164\n",
      "Epoch 98/100\n",
      "94/94 [==============================] - 0s 579us/step - loss: 0.3988 - accuracy: 0.8184\n",
      "Epoch 99/100\n",
      "94/94 [==============================] - 0s 572us/step - loss: 0.3971 - accuracy: 0.8187\n",
      "Epoch 100/100\n",
      "94/94 [==============================] - 0s 572us/step - loss: 0.3962 - accuracy: 0.8177\n",
      "44/44 [==============================] - 0s 518us/step - loss: 0.5491 - accuracy: 0.7306\n",
      "[0.5490590929985046, 0.7306325435638428]\n",
      "44/44 [==============================] - 0s 1ms/step\n",
      "Classification Report: \n",
      "               precision    recall  f1-score   support\n",
      "\n",
      "           0       0.88      0.73      0.80      1033\n",
      "           1       0.50      0.73      0.59       374\n",
      "\n",
      "    accuracy                           0.73      1407\n",
      "   macro avg       0.69      0.73      0.69      1407\n",
      "weighted avg       0.78      0.73      0.74      1407\n",
      "\n"
     ]
    }
   ],
   "source": [
    "y_pred1=ANN(X_train, y_train, X_test, y_test, 'binary_crossentropy', -1)"
   ]
  },
  {
   "cell_type": "code",
   "execution_count": 140,
   "id": "cc207c3b",
   "metadata": {},
   "outputs": [
    {
     "name": "stdout",
     "output_type": "stream",
     "text": [
      "Epoch 1/100\n",
      "94/94 [==============================] - 0s 693us/step - loss: 0.6496 - accuracy: 0.6127\n",
      "Epoch 2/100\n",
      "94/94 [==============================] - 0s 617us/step - loss: 0.5336 - accuracy: 0.7508\n",
      "Epoch 3/100\n",
      "94/94 [==============================] - 0s 606us/step - loss: 0.4995 - accuracy: 0.7542\n",
      "Epoch 4/100\n",
      "94/94 [==============================] - 0s 592us/step - loss: 0.4926 - accuracy: 0.7585\n",
      "Epoch 5/100\n",
      "94/94 [==============================] - 0s 618us/step - loss: 0.4878 - accuracy: 0.7605\n",
      "Epoch 6/100\n",
      "94/94 [==============================] - 0s 613us/step - loss: 0.4845 - accuracy: 0.7619\n",
      "Epoch 7/100\n",
      "94/94 [==============================] - 0s 602us/step - loss: 0.4823 - accuracy: 0.7629\n",
      "Epoch 8/100\n",
      "94/94 [==============================] - 0s 616us/step - loss: 0.4786 - accuracy: 0.7645\n",
      "Epoch 9/100\n",
      "94/94 [==============================] - 0s 609us/step - loss: 0.4762 - accuracy: 0.7662\n",
      "Epoch 10/100\n",
      "94/94 [==============================] - 0s 611us/step - loss: 0.4753 - accuracy: 0.7662\n",
      "Epoch 11/100\n",
      "94/94 [==============================] - 0s 647us/step - loss: 0.4703 - accuracy: 0.7709\n",
      "Epoch 12/100\n",
      "94/94 [==============================] - 0s 647us/step - loss: 0.4708 - accuracy: 0.7649\n",
      "Epoch 13/100\n",
      "94/94 [==============================] - 0s 625us/step - loss: 0.4679 - accuracy: 0.7686\n",
      "Epoch 14/100\n",
      "94/94 [==============================] - 0s 645us/step - loss: 0.4665 - accuracy: 0.7699\n",
      "Epoch 15/100\n",
      "94/94 [==============================] - 0s 667us/step - loss: 0.4669 - accuracy: 0.7699\n",
      "Epoch 16/100\n",
      "94/94 [==============================] - 0s 693us/step - loss: 0.4649 - accuracy: 0.7722\n",
      "Epoch 17/100\n",
      "94/94 [==============================] - 0s 1ms/step - loss: 0.4625 - accuracy: 0.7682\n",
      "Epoch 18/100\n",
      "94/94 [==============================] - 0s 726us/step - loss: 0.4622 - accuracy: 0.7709\n",
      "Epoch 19/100\n",
      "94/94 [==============================] - 0s 758us/step - loss: 0.4599 - accuracy: 0.7749\n",
      "Epoch 20/100\n",
      "94/94 [==============================] - 0s 638us/step - loss: 0.4591 - accuracy: 0.7732\n",
      "Epoch 21/100\n",
      "94/94 [==============================] - 0s 622us/step - loss: 0.4576 - accuracy: 0.7732\n",
      "Epoch 22/100\n",
      "94/94 [==============================] - 0s 610us/step - loss: 0.4556 - accuracy: 0.7769\n",
      "Epoch 23/100\n",
      "94/94 [==============================] - 0s 628us/step - loss: 0.4564 - accuracy: 0.7776\n",
      "Epoch 24/100\n",
      "94/94 [==============================] - 0s 607us/step - loss: 0.4551 - accuracy: 0.7766\n",
      "Epoch 25/100\n",
      "94/94 [==============================] - 0s 607us/step - loss: 0.4529 - accuracy: 0.7783\n",
      "Epoch 26/100\n",
      "94/94 [==============================] - 0s 627us/step - loss: 0.4513 - accuracy: 0.7826\n",
      "Epoch 27/100\n",
      "94/94 [==============================] - 0s 618us/step - loss: 0.4522 - accuracy: 0.7819\n",
      "Epoch 28/100\n",
      "94/94 [==============================] - 0s 642us/step - loss: 0.4510 - accuracy: 0.7773\n",
      "Epoch 29/100\n",
      "94/94 [==============================] - 0s 614us/step - loss: 0.4481 - accuracy: 0.7809\n",
      "Epoch 30/100\n",
      "94/94 [==============================] - 0s 600us/step - loss: 0.4474 - accuracy: 0.7853\n",
      "Epoch 31/100\n",
      "94/94 [==============================] - 0s 680us/step - loss: 0.4482 - accuracy: 0.7843\n",
      "Epoch 32/100\n",
      "94/94 [==============================] - 0s 620us/step - loss: 0.4447 - accuracy: 0.7886\n",
      "Epoch 33/100\n",
      "94/94 [==============================] - 0s 620us/step - loss: 0.4445 - accuracy: 0.7846\n",
      "Epoch 34/100\n",
      "94/94 [==============================] - 0s 784us/step - loss: 0.4434 - accuracy: 0.7860\n",
      "Epoch 35/100\n",
      "94/94 [==============================] - 0s 615us/step - loss: 0.4432 - accuracy: 0.7880\n",
      "Epoch 36/100\n",
      "94/94 [==============================] - 0s 607us/step - loss: 0.4409 - accuracy: 0.7896\n",
      "Epoch 37/100\n",
      "94/94 [==============================] - 0s 598us/step - loss: 0.4393 - accuracy: 0.7906\n",
      "Epoch 38/100\n",
      "94/94 [==============================] - 0s 734us/step - loss: 0.4388 - accuracy: 0.7916\n",
      "Epoch 39/100\n",
      "94/94 [==============================] - 0s 1ms/step - loss: 0.4372 - accuracy: 0.7910\n",
      "Epoch 40/100\n",
      "94/94 [==============================] - 0s 769us/step - loss: 0.4363 - accuracy: 0.7863\n",
      "Epoch 41/100\n",
      "94/94 [==============================] - 0s 625us/step - loss: 0.4366 - accuracy: 0.7936\n",
      "Epoch 42/100\n",
      "94/94 [==============================] - 0s 646us/step - loss: 0.4359 - accuracy: 0.7893\n",
      "Epoch 43/100\n",
      "94/94 [==============================] - 0s 612us/step - loss: 0.4347 - accuracy: 0.7943\n",
      "Epoch 44/100\n",
      "94/94 [==============================] - 0s 632us/step - loss: 0.4327 - accuracy: 0.7933\n",
      "Epoch 45/100\n",
      "94/94 [==============================] - 0s 618us/step - loss: 0.4319 - accuracy: 0.7946\n",
      "Epoch 46/100\n",
      "94/94 [==============================] - 0s 621us/step - loss: 0.4314 - accuracy: 0.7923\n",
      "Epoch 47/100\n",
      "94/94 [==============================] - 0s 610us/step - loss: 0.4296 - accuracy: 0.7930\n",
      "Epoch 48/100\n",
      "94/94 [==============================] - 0s 607us/step - loss: 0.4295 - accuracy: 0.7923\n",
      "Epoch 49/100\n",
      "94/94 [==============================] - 0s 603us/step - loss: 0.4298 - accuracy: 0.7957\n",
      "Epoch 50/100\n",
      "94/94 [==============================] - 0s 597us/step - loss: 0.4250 - accuracy: 0.7973\n",
      "Epoch 51/100\n",
      "94/94 [==============================] - 0s 644us/step - loss: 0.4263 - accuracy: 0.8007\n",
      "Epoch 52/100\n",
      "94/94 [==============================] - 0s 596us/step - loss: 0.4259 - accuracy: 0.7980\n",
      "Epoch 53/100\n",
      "94/94 [==============================] - 0s 598us/step - loss: 0.4230 - accuracy: 0.7963\n",
      "Epoch 54/100\n",
      "94/94 [==============================] - 0s 609us/step - loss: 0.4236 - accuracy: 0.8003\n",
      "Epoch 55/100\n",
      "94/94 [==============================] - 0s 615us/step - loss: 0.4225 - accuracy: 0.8037\n",
      "Epoch 56/100\n",
      "94/94 [==============================] - 0s 599us/step - loss: 0.4208 - accuracy: 0.7977\n",
      "Epoch 57/100\n",
      "94/94 [==============================] - 0s 625us/step - loss: 0.4187 - accuracy: 0.7990\n",
      "Epoch 58/100\n",
      "94/94 [==============================] - 0s 602us/step - loss: 0.4191 - accuracy: 0.8043\n",
      "Epoch 59/100\n",
      "94/94 [==============================] - 0s 617us/step - loss: 0.4185 - accuracy: 0.7987\n",
      "Epoch 60/100\n",
      "94/94 [==============================] - 0s 592us/step - loss: 0.4182 - accuracy: 0.8020\n",
      "Epoch 61/100\n",
      "94/94 [==============================] - 0s 605us/step - loss: 0.4151 - accuracy: 0.8054\n",
      "Epoch 62/100\n",
      "94/94 [==============================] - 0s 591us/step - loss: 0.4139 - accuracy: 0.8060\n",
      "Epoch 63/100\n",
      "94/94 [==============================] - 0s 619us/step - loss: 0.4137 - accuracy: 0.8047\n",
      "Epoch 64/100\n",
      "94/94 [==============================] - 0s 613us/step - loss: 0.4114 - accuracy: 0.8040\n",
      "Epoch 65/100\n",
      "94/94 [==============================] - 0s 602us/step - loss: 0.4116 - accuracy: 0.8057\n",
      "Epoch 66/100\n",
      "94/94 [==============================] - 0s 610us/step - loss: 0.4120 - accuracy: 0.8060\n",
      "Epoch 67/100\n",
      "94/94 [==============================] - 0s 607us/step - loss: 0.4114 - accuracy: 0.8060\n",
      "Epoch 68/100\n",
      "94/94 [==============================] - 0s 587us/step - loss: 0.4088 - accuracy: 0.8070\n",
      "Epoch 69/100\n",
      "94/94 [==============================] - 0s 625us/step - loss: 0.4086 - accuracy: 0.8067\n",
      "Epoch 70/100\n",
      "94/94 [==============================] - 0s 599us/step - loss: 0.4077 - accuracy: 0.8080\n",
      "Epoch 71/100\n",
      "94/94 [==============================] - 0s 605us/step - loss: 0.4056 - accuracy: 0.8097\n",
      "Epoch 72/100\n",
      "94/94 [==============================] - 0s 609us/step - loss: 0.4063 - accuracy: 0.8094\n",
      "Epoch 73/100\n",
      "94/94 [==============================] - 0s 621us/step - loss: 0.4039 - accuracy: 0.8120\n",
      "Epoch 74/100\n",
      "94/94 [==============================] - 0s 597us/step - loss: 0.4038 - accuracy: 0.8124\n",
      "Epoch 75/100\n",
      "94/94 [==============================] - 0s 606us/step - loss: 0.4025 - accuracy: 0.8104\n",
      "Epoch 76/100\n",
      "94/94 [==============================] - 0s 592us/step - loss: 0.4024 - accuracy: 0.8094\n",
      "Epoch 77/100\n",
      "94/94 [==============================] - 0s 614us/step - loss: 0.4025 - accuracy: 0.8114\n",
      "Epoch 78/100\n",
      "94/94 [==============================] - 0s 625us/step - loss: 0.4010 - accuracy: 0.8120\n",
      "Epoch 79/100\n",
      "94/94 [==============================] - 0s 614us/step - loss: 0.3993 - accuracy: 0.8134\n",
      "Epoch 80/100\n",
      "94/94 [==============================] - 0s 609us/step - loss: 0.3993 - accuracy: 0.8161\n",
      "Epoch 81/100\n"
     ]
    },
    {
     "name": "stdout",
     "output_type": "stream",
     "text": [
      "94/94 [==============================] - 0s 592us/step - loss: 0.3971 - accuracy: 0.8154\n",
      "Epoch 82/100\n",
      "94/94 [==============================] - 0s 617us/step - loss: 0.3964 - accuracy: 0.8184\n",
      "Epoch 83/100\n",
      "94/94 [==============================] - 0s 584us/step - loss: 0.3966 - accuracy: 0.8177\n",
      "Epoch 84/100\n",
      "94/94 [==============================] - 0s 588us/step - loss: 0.3956 - accuracy: 0.8197\n",
      "Epoch 85/100\n",
      "94/94 [==============================] - 0s 583us/step - loss: 0.3949 - accuracy: 0.8184\n",
      "Epoch 86/100\n",
      "94/94 [==============================] - 0s 579us/step - loss: 0.3946 - accuracy: 0.8171\n",
      "Epoch 87/100\n",
      "94/94 [==============================] - 0s 602us/step - loss: 0.3952 - accuracy: 0.8151\n",
      "Epoch 88/100\n",
      "94/94 [==============================] - 0s 622us/step - loss: 0.3923 - accuracy: 0.8154\n",
      "Epoch 89/100\n",
      "94/94 [==============================] - 0s 662us/step - loss: 0.3923 - accuracy: 0.8207\n",
      "Epoch 90/100\n",
      "94/94 [==============================] - 0s 709us/step - loss: 0.3910 - accuracy: 0.8204\n",
      "Epoch 91/100\n",
      "94/94 [==============================] - 0s 684us/step - loss: 0.3915 - accuracy: 0.8231\n",
      "Epoch 92/100\n",
      "94/94 [==============================] - 0s 753us/step - loss: 0.3880 - accuracy: 0.8231\n",
      "Epoch 93/100\n",
      "94/94 [==============================] - 0s 658us/step - loss: 0.3893 - accuracy: 0.8181\n",
      "Epoch 94/100\n",
      "94/94 [==============================] - 0s 652us/step - loss: 0.3895 - accuracy: 0.8201\n",
      "Epoch 95/100\n",
      "94/94 [==============================] - 0s 594us/step - loss: 0.3860 - accuracy: 0.8217\n",
      "Epoch 96/100\n",
      "94/94 [==============================] - 0s 577us/step - loss: 0.3857 - accuracy: 0.8221\n",
      "Epoch 97/100\n",
      "94/94 [==============================] - 0s 580us/step - loss: 0.3857 - accuracy: 0.8224\n",
      "Epoch 98/100\n",
      "94/94 [==============================] - 0s 576us/step - loss: 0.3844 - accuracy: 0.8244\n",
      "Epoch 99/100\n",
      "94/94 [==============================] - 0s 585us/step - loss: 0.3840 - accuracy: 0.8237\n",
      "Epoch 100/100\n",
      "94/94 [==============================] - 0s 575us/step - loss: 0.3830 - accuracy: 0.8251\n",
      "44/44 [==============================] - 0s 500us/step - loss: 0.5535 - accuracy: 0.7136\n",
      "[0.5535450577735901, 0.713575005531311]\n",
      "44/44 [==============================] - 0s 409us/step\n",
      "Classification Report: \n",
      "               precision    recall  f1-score   support\n",
      "\n",
      "           0       0.89      0.69      0.78      1033\n",
      "           1       0.48      0.77      0.59       374\n",
      "\n",
      "    accuracy                           0.71      1407\n",
      "   macro avg       0.68      0.73      0.68      1407\n",
      "weighted avg       0.78      0.71      0.73      1407\n",
      "\n"
     ]
    }
   ],
   "source": [
    "X_train,y_train=get_train_batch(df2_class0,df2_class1,1495,2990)\n",
    "y_pred2=ANN(X_train, y_train, X_test, y_test, 'binary_crossentropy', -1)"
   ]
  },
  {
   "cell_type": "code",
   "execution_count": 141,
   "id": "6ef2ea4c",
   "metadata": {},
   "outputs": [
    {
     "name": "stdout",
     "output_type": "stream",
     "text": [
      "Epoch 1/100\n",
      "83/83 [==============================] - 0s 700us/step - loss: 0.6228 - accuracy: 0.6539\n",
      "Epoch 2/100\n",
      "83/83 [==============================] - 0s 622us/step - loss: 0.5182 - accuracy: 0.7677\n",
      "Epoch 3/100\n",
      "83/83 [==============================] - 0s 609us/step - loss: 0.4886 - accuracy: 0.7769\n",
      "Epoch 4/100\n",
      "83/83 [==============================] - 0s 597us/step - loss: 0.4786 - accuracy: 0.7776\n",
      "Epoch 5/100\n",
      "83/83 [==============================] - 0s 603us/step - loss: 0.4742 - accuracy: 0.7746\n",
      "Epoch 6/100\n",
      "83/83 [==============================] - 0s 604us/step - loss: 0.4718 - accuracy: 0.7776\n",
      "Epoch 7/100\n",
      "83/83 [==============================] - 0s 603us/step - loss: 0.4707 - accuracy: 0.7810\n",
      "Epoch 8/100\n",
      "83/83 [==============================] - 0s 604us/step - loss: 0.4664 - accuracy: 0.7829\n",
      "Epoch 9/100\n",
      "83/83 [==============================] - 0s 608us/step - loss: 0.4634 - accuracy: 0.7822\n",
      "Epoch 10/100\n",
      "83/83 [==============================] - 0s 603us/step - loss: 0.4609 - accuracy: 0.7844\n",
      "Epoch 11/100\n",
      "83/83 [==============================] - 0s 629us/step - loss: 0.4597 - accuracy: 0.7814\n",
      "Epoch 12/100\n",
      "83/83 [==============================] - 0s 652us/step - loss: 0.4571 - accuracy: 0.7833\n",
      "Epoch 13/100\n",
      "83/83 [==============================] - 0s 676us/step - loss: 0.4573 - accuracy: 0.7829\n",
      "Epoch 14/100\n",
      "83/83 [==============================] - 0s 663us/step - loss: 0.4552 - accuracy: 0.7882\n",
      "Epoch 15/100\n",
      "83/83 [==============================] - 0s 629us/step - loss: 0.4544 - accuracy: 0.7879\n",
      "Epoch 16/100\n",
      "83/83 [==============================] - 0s 623us/step - loss: 0.4529 - accuracy: 0.7875\n",
      "Epoch 17/100\n",
      "83/83 [==============================] - 0s 603us/step - loss: 0.4527 - accuracy: 0.7837\n",
      "Epoch 18/100\n",
      "83/83 [==============================] - 0s 838us/step - loss: 0.4497 - accuracy: 0.7920\n",
      "Epoch 19/100\n",
      "83/83 [==============================] - 0s 669us/step - loss: 0.4470 - accuracy: 0.7970\n",
      "Epoch 20/100\n",
      "83/83 [==============================] - 0s 621us/step - loss: 0.4476 - accuracy: 0.7966\n",
      "Epoch 21/100\n",
      "83/83 [==============================] - 0s 601us/step - loss: 0.4458 - accuracy: 0.7966\n",
      "Epoch 22/100\n",
      "83/83 [==============================] - 0s 609us/step - loss: 0.4447 - accuracy: 0.7947\n",
      "Epoch 23/100\n",
      "83/83 [==============================] - 0s 641us/step - loss: 0.4444 - accuracy: 0.7985\n",
      "Epoch 24/100\n",
      "83/83 [==============================] - 0s 660us/step - loss: 0.4415 - accuracy: 0.7954\n",
      "Epoch 25/100\n",
      "83/83 [==============================] - 0s 602us/step - loss: 0.4403 - accuracy: 0.7943\n",
      "Epoch 26/100\n",
      "83/83 [==============================] - 0s 592us/step - loss: 0.4398 - accuracy: 0.7992\n",
      "Epoch 27/100\n",
      "83/83 [==============================] - 0s 598us/step - loss: 0.4396 - accuracy: 0.7928\n",
      "Epoch 28/100\n",
      "83/83 [==============================] - 0s 595us/step - loss: 0.4370 - accuracy: 0.8030\n",
      "Epoch 29/100\n",
      "83/83 [==============================] - 0s 637us/step - loss: 0.4370 - accuracy: 0.7996\n",
      "Epoch 30/100\n",
      "83/83 [==============================] - 0s 678us/step - loss: 0.4365 - accuracy: 0.7981\n",
      "Epoch 31/100\n",
      "83/83 [==============================] - 0s 629us/step - loss: 0.4347 - accuracy: 0.7992\n",
      "Epoch 32/100\n",
      "83/83 [==============================] - 0s 628us/step - loss: 0.4333 - accuracy: 0.8000\n",
      "Epoch 33/100\n",
      "83/83 [==============================] - 0s 611us/step - loss: 0.4337 - accuracy: 0.8011\n",
      "Epoch 34/100\n",
      "83/83 [==============================] - 0s 640us/step - loss: 0.4313 - accuracy: 0.7973\n",
      "Epoch 35/100\n",
      "83/83 [==============================] - 0s 647us/step - loss: 0.4305 - accuracy: 0.7996\n",
      "Epoch 36/100\n",
      "83/83 [==============================] - 0s 620us/step - loss: 0.4305 - accuracy: 0.8011\n",
      "Epoch 37/100\n",
      "83/83 [==============================] - 0s 588us/step - loss: 0.4292 - accuracy: 0.8027\n",
      "Epoch 38/100\n",
      "83/83 [==============================] - 0s 585us/step - loss: 0.4281 - accuracy: 0.8019\n",
      "Epoch 39/100\n",
      "83/83 [==============================] - 0s 585us/step - loss: 0.4279 - accuracy: 0.8049\n",
      "Epoch 40/100\n",
      "83/83 [==============================] - 0s 588us/step - loss: 0.4254 - accuracy: 0.8042\n",
      "Epoch 41/100\n",
      "83/83 [==============================] - 0s 586us/step - loss: 0.4252 - accuracy: 0.8049\n",
      "Epoch 42/100\n",
      "83/83 [==============================] - 0s 589us/step - loss: 0.4249 - accuracy: 0.8011\n",
      "Epoch 43/100\n",
      "83/83 [==============================] - 0s 588us/step - loss: 0.4235 - accuracy: 0.8015\n",
      "Epoch 44/100\n",
      "83/83 [==============================] - 0s 582us/step - loss: 0.4227 - accuracy: 0.8053\n",
      "Epoch 45/100\n",
      "83/83 [==============================] - 0s 581us/step - loss: 0.4216 - accuracy: 0.8023\n",
      "Epoch 46/100\n",
      "83/83 [==============================] - 0s 595us/step - loss: 0.4213 - accuracy: 0.7966\n",
      "Epoch 47/100\n",
      "83/83 [==============================] - 0s 591us/step - loss: 0.4191 - accuracy: 0.8072\n",
      "Epoch 48/100\n",
      "83/83 [==============================] - 0s 1ms/step - loss: 0.4209 - accuracy: 0.8065\n",
      "Epoch 49/100\n",
      "83/83 [==============================] - 0s 604us/step - loss: 0.4164 - accuracy: 0.8076\n",
      "Epoch 50/100\n",
      "83/83 [==============================] - 0s 610us/step - loss: 0.4175 - accuracy: 0.8087\n",
      "Epoch 51/100\n",
      "83/83 [==============================] - 0s 609us/step - loss: 0.4161 - accuracy: 0.8125\n",
      "Epoch 52/100\n",
      "83/83 [==============================] - 0s 611us/step - loss: 0.4155 - accuracy: 0.8072\n",
      "Epoch 53/100\n",
      "83/83 [==============================] - 0s 599us/step - loss: 0.4144 - accuracy: 0.8065\n",
      "Epoch 54/100\n",
      "83/83 [==============================] - 0s 585us/step - loss: 0.4132 - accuracy: 0.8065\n",
      "Epoch 55/100\n",
      "83/83 [==============================] - 0s 594us/step - loss: 0.4109 - accuracy: 0.8095\n",
      "Epoch 56/100\n",
      "83/83 [==============================] - 0s 578us/step - loss: 0.4132 - accuracy: 0.8091\n",
      "Epoch 57/100\n",
      "83/83 [==============================] - 0s 581us/step - loss: 0.4113 - accuracy: 0.8110\n",
      "Epoch 58/100\n",
      "83/83 [==============================] - 0s 581us/step - loss: 0.4099 - accuracy: 0.8110\n",
      "Epoch 59/100\n",
      "83/83 [==============================] - 0s 582us/step - loss: 0.4064 - accuracy: 0.8129\n",
      "Epoch 60/100\n",
      "83/83 [==============================] - 0s 580us/step - loss: 0.4084 - accuracy: 0.8095\n",
      "Epoch 61/100\n",
      "83/83 [==============================] - 0s 581us/step - loss: 0.4072 - accuracy: 0.8091\n",
      "Epoch 62/100\n",
      "83/83 [==============================] - 0s 593us/step - loss: 0.4061 - accuracy: 0.8114\n",
      "Epoch 63/100\n",
      "83/83 [==============================] - 0s 594us/step - loss: 0.4047 - accuracy: 0.8118\n",
      "Epoch 64/100\n",
      "83/83 [==============================] - 0s 598us/step - loss: 0.4031 - accuracy: 0.8137\n",
      "Epoch 65/100\n",
      "83/83 [==============================] - 0s 601us/step - loss: 0.4028 - accuracy: 0.8102\n",
      "Epoch 66/100\n",
      "83/83 [==============================] - 0s 601us/step - loss: 0.4022 - accuracy: 0.8163\n",
      "Epoch 67/100\n",
      "83/83 [==============================] - 0s 580us/step - loss: 0.4002 - accuracy: 0.8148\n",
      "Epoch 68/100\n",
      "83/83 [==============================] - 0s 579us/step - loss: 0.4018 - accuracy: 0.8140\n",
      "Epoch 69/100\n",
      "83/83 [==============================] - 0s 580us/step - loss: 0.4000 - accuracy: 0.8133\n",
      "Epoch 70/100\n",
      "83/83 [==============================] - 0s 581us/step - loss: 0.3974 - accuracy: 0.8148\n",
      "Epoch 71/100\n",
      "83/83 [==============================] - 0s 587us/step - loss: 0.4011 - accuracy: 0.8133\n",
      "Epoch 72/100\n",
      "83/83 [==============================] - 0s 600us/step - loss: 0.3989 - accuracy: 0.8171\n",
      "Epoch 73/100\n",
      "83/83 [==============================] - 0s 585us/step - loss: 0.3981 - accuracy: 0.8137\n",
      "Epoch 74/100\n",
      "83/83 [==============================] - 0s 581us/step - loss: 0.3952 - accuracy: 0.8201\n",
      "Epoch 75/100\n",
      "83/83 [==============================] - 0s 582us/step - loss: 0.3954 - accuracy: 0.8182\n",
      "Epoch 76/100\n",
      "83/83 [==============================] - 0s 580us/step - loss: 0.3925 - accuracy: 0.8194\n",
      "Epoch 77/100\n",
      "83/83 [==============================] - 0s 585us/step - loss: 0.3952 - accuracy: 0.8163\n",
      "Epoch 78/100\n",
      "83/83 [==============================] - 0s 583us/step - loss: 0.3930 - accuracy: 0.8140\n",
      "Epoch 79/100\n",
      "83/83 [==============================] - 0s 583us/step - loss: 0.3908 - accuracy: 0.8186\n",
      "Epoch 80/100\n",
      "83/83 [==============================] - 0s 582us/step - loss: 0.3908 - accuracy: 0.8178\n",
      "Epoch 81/100\n"
     ]
    },
    {
     "name": "stdout",
     "output_type": "stream",
     "text": [
      "83/83 [==============================] - 0s 583us/step - loss: 0.3929 - accuracy: 0.8186\n",
      "Epoch 82/100\n",
      "83/83 [==============================] - 0s 597us/step - loss: 0.3921 - accuracy: 0.8152\n",
      "Epoch 83/100\n",
      "83/83 [==============================] - 0s 581us/step - loss: 0.3918 - accuracy: 0.8220\n",
      "Epoch 84/100\n",
      "83/83 [==============================] - 0s 570us/step - loss: 0.3887 - accuracy: 0.8194\n",
      "Epoch 85/100\n",
      "83/83 [==============================] - 0s 571us/step - loss: 0.3871 - accuracy: 0.8254\n",
      "Epoch 86/100\n",
      "83/83 [==============================] - 0s 573us/step - loss: 0.3864 - accuracy: 0.8209\n",
      "Epoch 87/100\n",
      "83/83 [==============================] - 0s 589us/step - loss: 0.3858 - accuracy: 0.8239\n",
      "Epoch 88/100\n",
      "83/83 [==============================] - 0s 578us/step - loss: 0.3851 - accuracy: 0.8239\n",
      "Epoch 89/100\n",
      "83/83 [==============================] - 0s 573us/step - loss: 0.3844 - accuracy: 0.8216\n",
      "Epoch 90/100\n",
      "83/83 [==============================] - 0s 570us/step - loss: 0.3833 - accuracy: 0.8247\n",
      "Epoch 91/100\n",
      "83/83 [==============================] - 0s 581us/step - loss: 0.3823 - accuracy: 0.8231\n",
      "Epoch 92/100\n",
      "83/83 [==============================] - 0s 578us/step - loss: 0.3830 - accuracy: 0.8201\n",
      "Epoch 93/100\n",
      "83/83 [==============================] - 0s 572us/step - loss: 0.3823 - accuracy: 0.8266\n",
      "Epoch 94/100\n",
      "83/83 [==============================] - 0s 571us/step - loss: 0.3784 - accuracy: 0.8300\n",
      "Epoch 95/100\n",
      "83/83 [==============================] - 0s 755us/step - loss: 0.3789 - accuracy: 0.8254\n",
      "Epoch 96/100\n",
      "83/83 [==============================] - 0s 594us/step - loss: 0.3779 - accuracy: 0.8262\n",
      "Epoch 97/100\n",
      "83/83 [==============================] - 0s 583us/step - loss: 0.3789 - accuracy: 0.8254\n",
      "Epoch 98/100\n",
      "83/83 [==============================] - 0s 591us/step - loss: 0.3769 - accuracy: 0.8247\n",
      "Epoch 99/100\n",
      "83/83 [==============================] - 0s 610us/step - loss: 0.3771 - accuracy: 0.8247\n",
      "Epoch 100/100\n",
      "83/83 [==============================] - 0s 610us/step - loss: 0.3786 - accuracy: 0.8243\n",
      "44/44 [==============================] - 0s 507us/step - loss: 0.6371 - accuracy: 0.6986\n",
      "[0.6371269822120667, 0.6986495852470398]\n",
      "44/44 [==============================] - 0s 402us/step\n",
      "Classification Report: \n",
      "               precision    recall  f1-score   support\n",
      "\n",
      "           0       0.91      0.65      0.76      1033\n",
      "           1       0.46      0.82      0.59       374\n",
      "\n",
      "    accuracy                           0.70      1407\n",
      "   macro avg       0.69      0.74      0.68      1407\n",
      "weighted avg       0.79      0.70      0.72      1407\n",
      "\n"
     ]
    }
   ],
   "source": [
    "X_train,y_train=get_train_batch(df2_class0,df2_class1,2990,4130)\n",
    "y_pred3=ANN(X_train, y_train, X_test, y_test, 'binary_crossentropy', -1)"
   ]
  },
  {
   "cell_type": "code",
   "execution_count": 145,
   "id": "2b709a4e",
   "metadata": {},
   "outputs": [],
   "source": [
    "#perform voting\n",
    "y_pred_final=y_pred.copy()\n",
    "for i in range(len(y_pred1)):\n",
    "    n_ones=y_pred1[i]+y_pred2[i]+y_pred3[i]\n",
    "    if n_ones>1:\n",
    "        y_pred_final[i]=1\n",
    "    else:\n",
    "        y_pred_final[i]=0\n",
    "        "
   ]
  },
  {
   "cell_type": "code",
   "execution_count": 146,
   "id": "4e9132da",
   "metadata": {},
   "outputs": [
    {
     "name": "stdout",
     "output_type": "stream",
     "text": [
      "              precision    recall  f1-score   support\n",
      "\n",
      "           0       0.90      0.69      0.78      1033\n",
      "           1       0.48      0.79      0.59       374\n",
      "\n",
      "    accuracy                           0.71      1407\n",
      "   macro avg       0.69      0.74      0.69      1407\n",
      "weighted avg       0.79      0.71      0.73      1407\n",
      "\n"
     ]
    }
   ],
   "source": [
    "print(classification_report(y_test,y_pred_final))"
   ]
  },
  {
   "cell_type": "markdown",
   "id": "40ddd0b3",
   "metadata": {},
   "source": [
    "SMOTE worked best here!!!"
   ]
  }
 ],
 "metadata": {
  "kernelspec": {
   "display_name": "Python 3 (ipykernel)",
   "language": "python",
   "name": "python3"
  },
  "language_info": {
   "codemirror_mode": {
    "name": "ipython",
    "version": 3
   },
   "file_extension": ".py",
   "mimetype": "text/x-python",
   "name": "python",
   "nbconvert_exporter": "python",
   "pygments_lexer": "ipython3",
   "version": "3.9.7"
  }
 },
 "nbformat": 4,
 "nbformat_minor": 5
}
